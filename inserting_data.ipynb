{
 "cells": [
  {
   "cell_type": "code",
   "execution_count": 1,
   "metadata": {},
   "outputs": [],
   "source": [
    "import requests\n",
    "import pandas as pd\n",
    "\n",
    "from barentswatch.credentials import config\n",
    "from barentswatch.authentication import get_token"
   ]
  },
  {
   "cell_type": "code",
   "execution_count": 2,
   "metadata": {},
   "outputs": [],
   "source": [
    "\n",
    "import warnings\n",
    "from pprintpp import pprint\n",
    "warnings.simplefilter(action='ignore', category=FutureWarning)"
   ]
  },
  {
   "cell_type": "markdown",
   "metadata": {},
   "source": [
    "###### Using API to get data\n",
    "\n",
    "Link to ApiDocs: https://www.barentswatch.no/bwapi/openapi/index.html?urls.primaryName=Fishhealth%20API"
   ]
  },
  {
   "cell_type": "code",
   "execution_count": 3,
   "metadata": {},
   "outputs": [],
   "source": [
    "from functions import get_week_summary"
   ]
  },
  {
   "cell_type": "code",
   "execution_count": 4,
   "metadata": {},
   "outputs": [
    {
     "name": "stdout",
     "output_type": "stream",
     "text": [
      "Token request successful\n"
     ]
    },
    {
     "data": {
      "text/plain": [
       "dict"
      ]
     },
     "execution_count": 4,
     "metadata": {},
     "output_type": "execute_result"
    }
   ],
   "source": [
    "token = get_token()\n",
    "weeksummary= get_week_summary(token,'2017','45')\n",
    "type(weeksummary)"
   ]
  },
  {
   "cell_type": "markdown",
   "metadata": {},
   "source": [
    "##### Storing information from the entire year in table"
   ]
  },
  {
   "cell_type": "code",
   "execution_count": 5,
   "metadata": {},
   "outputs": [],
   "source": [
    "# Connecting to Cassandra\n",
    "from cassandra.cluster import Cluster\n",
    "cluster = Cluster(['localhost'], port=9042)\n",
    "session = cluster.connect()"
   ]
  },
  {
   "cell_type": "code",
   "execution_count": 7,
   "metadata": {},
   "outputs": [],
   "source": [
    "from cassandra.cluster import Cluster\n",
    "from cassandra.query import SimpleStatement\n",
    "\n",
    "# Establish a connection to the Cassandra cluster\n",
    "cluster = Cluster(['127.0.0.1'])  # assuming Cassandra is running on localhost\n",
    "session = cluster.connect()\n",
    "\n",
    "session.set_keyspace('fish_data')\n",
    "\n",
    "table_creation_query = \"\"\"\n",
    "    CREATE TABLE IF NOT EXISTS locality_data (\n",
    "        year INT,\n",
    "        week INT,\n",
    "        localityNo INT,\n",
    "        localityWeekId INT PRIMARY KEY,\n",
    "        name TEXT,\n",
    "        hasReportedLice BOOLEAN,\n",
    "        isFallow BOOLEAN,\n",
    "        avgAdultFemaleLice DOUBLE,\n",
    "        hasCleanerfishDeployed BOOLEAN,\n",
    "        hasMechanicalRemoval BOOLEAN,\n",
    "        hasSubstanceTreatments BOOLEAN,\n",
    "        hasPd BOOLEAN,\n",
    "        hasIla BOOLEAN,\n",
    "        municipalityNo TEXT,\n",
    "        municipality TEXT,\n",
    "        lat DOUBLE,\n",
    "        lon DOUBLE,\n",
    "        isOnLand BOOLEAN,\n",
    "        inFilteredSelection BOOLEAN,\n",
    "        hasSalmonoids BOOLEAN,\n",
    "        isSlaughterHoldingCage BOOLEAN\n",
    "    );\n",
    "\"\"\"\n",
    "#session.execute(table_creation_query) # Uncomment to create the table\n",
    "\n",
    "# Define the INSERT statement\n",
    "insert_query = \"\"\"\n",
    "    INSERT INTO locality_data (year, week, localityNo, localityWeekId, name, hasReportedLice, isFallow, \n",
    "                               avgAdultFemaleLice, hasCleanerfishDeployed, hasMechanicalRemoval, \n",
    "                               hasSubstanceTreatments, hasPd, hasIla, municipalityNo, municipality, \n",
    "                               lat, lon, isOnLand, inFilteredSelection, hasSalmonoids, isSlaughterHoldingCage)\n",
    "    VALUES (%s, %s, %s, %s, %s, %s, %s, %s, %s, %s, %s, %s, %s, %s, %s, %s, %s, %s, %s, %s, %s);\n",
    "\"\"\""
   ]
  },
  {
   "cell_type": "code",
   "execution_count": 8,
   "metadata": {},
   "outputs": [],
   "source": [
    "\n",
    "for week in range(1, 53):\n",
    "    print(f'Inserting data for week {week}...')\n",
    "    weeksummary = get_week_summary(token, '2021', str(week))\n",
    "\n",
    "    for locality in weeksummary['localities']:\n",
    "        session.execute(\n",
    "            insert_query,\n",
    "            (\n",
    "                weeksummary['year'],\n",
    "                weeksummary['week'],\n",
    "                locality['localityNo'],\n",
    "                locality['localityWeekId'],\n",
    "                locality['name'],\n",
    "                locality['hasReportedLice'],\n",
    "                locality['isFallow'],\n",
    "                locality['avgAdultFemaleLice'],\n",
    "                locality['hasCleanerfishDeployed'],\n",
    "                locality['hasMechanicalRemoval'],\n",
    "                locality['hasSubstanceTreatments'],\n",
    "                locality['hasPd'],\n",
    "                locality['hasIla'],\n",
    "                locality['municipalityNo'],\n",
    "                locality['municipality'],\n",
    "                locality['lat'],\n",
    "                locality['lon'],\n",
    "                locality['isOnLand'],\n",
    "                locality['inFilteredSelection'],\n",
    "                locality['hasSalmonoids'],\n",
    "                locality['isSlaughterHoldingCage']\n",
    "            )\n",
    "        )"
   ]
  },
  {
   "cell_type": "markdown",
   "metadata": {},
   "source": [
    "#### Extracting yearly information from one specific location into its own table"
   ]
  },
  {
   "cell_type": "code",
   "execution_count": 16,
   "metadata": {},
   "outputs": [],
   "source": [
    "specific_locality_no = 14746\n",
    "\n",
    "# Step 1: Retrieve all records for the specific localityNo\n",
    "query = \"SELECT * FROM locality_data WHERE localityNo = %s ALLOW FILTERING\"\n",
    "filtered_records = session.execute(query, [specific_locality_no])\n",
    "\n",
    "create_table_query = \"\"\"\n",
    "CREATE TABLE IF NOT EXISTS locality_data_specific (\n",
    "    year int,\n",
    "    week int,\n",
    "    localityno int,\n",
    "    localityweekid int,\n",
    "    name text,\n",
    "    hasreportedlice boolean,\n",
    "    isfallow boolean,\n",
    "    avgadultfemalelice float,\n",
    "    hascleanerfishdeployed boolean,\n",
    "    hasmechanicalremoval boolean,\n",
    "    hassubstancetreatments boolean,\n",
    "    haspd boolean,\n",
    "    hasila boolean,\n",
    "    municipalityno text,\n",
    "    municipality text,\n",
    "    lat float,\n",
    "    lon float,\n",
    "    isonland boolean,\n",
    "    infilteredselection boolean,\n",
    "    hassalmonoids boolean,\n",
    "    isslaughterholdingcage boolean,\n",
    "    PRIMARY KEY (localityweekid)\n",
    ");\n",
    "\"\"\"\n",
    "\n",
    "\n",
    "session.execute(create_table_query)\n",
    "\n",
    "insert_query = \"\"\"\n",
    "INSERT INTO locality_data_specific (\n",
    "    year, week, localityno, localityweekid, name, hasreportedlice, isfallow,\n",
    "    avgadultfemalelice, hascleanerfishdeployed, hasmechanicalremoval, \n",
    "    hassubstancetreatments, haspd, hasila, municipalityno, municipality, \n",
    "    lat, lon, isonland, infilteredselection, hassalmonoids, \n",
    "    isslaughterholdingcage\n",
    ") VALUES (\n",
    "    %(year)s, %(week)s, %(localityno)s, %(localityweekid)s, %(name)s, \n",
    "    %(hasreportedlice)s, %(isfallow)s, %(avgadultfemalelice)s, \n",
    "    %(hascleanerfishdeployed)s, %(hasmechanicalremoval)s, \n",
    "    %(hassubstancetreatments)s, %(haspd)s, %(hasila)s, %(municipalityno)s, \n",
    "    %(municipality)s, %(lat)s, %(lon)s, %(isonland)s, \n",
    "    %(infilteredselection)s, %(hassalmonoids)s, %(isslaughterholdingcage)s\n",
    ")\n",
    "\"\"\"\n",
    "for row in filtered_records:\n",
    "    # Convert the Row object to a dict and make sure keys are lowercase\n",
    "    record_dict = {key.lower(): value for key, value in row._asdict().items()}\n",
    "    session.execute(insert_query, record_dict)\n",
    "\n",
    "\n",
    "\n",
    "\n",
    "\n",
    "\n",
    "\n",
    "\n",
    "# Assuming 'filtered_records' is a list of dictionaries where each dictionary contains the data for one record.\n",
    "for record in filtered_records:\n",
    "    session.execute(insert_query, record)\n",
    "\n",
    "# Close the connection to the Cassandra cluster\n",
    "cluster.shutdown()"
   ]
  },
  {
   "cell_type": "markdown",
   "metadata": {},
   "source": []
  },
  {
   "cell_type": "code",
   "execution_count": 14,
   "metadata": {},
   "outputs": [
    {
     "data": {
      "text/plain": [
       "Row(localityweekid=1263260, avgadultfemalelice=None, hascleanerfishdeployed=False, hasila=False, hasmechanicalremoval=False, haspd=False, hasreportedlice=False, hassalmonoids=False, hassubstancetreatments=False, infilteredselection=True, isfallow=True, isonland=False, isslaughterholdingcage=False, lat=65.045867, localityno=14746, lon=12.156933, municipality='Bindal', municipalityno='1811', name='Aarsand', week=25, year=2021)"
      ]
     },
     "execution_count": 14,
     "metadata": {},
     "output_type": "execute_result"
    }
   ],
   "source": []
  },
  {
   "cell_type": "markdown",
   "metadata": {},
   "source": [
    "### Inserting the weather data from Frost"
   ]
  },
  {
   "cell_type": "code",
   "execution_count": 12,
   "metadata": {},
   "outputs": [],
   "source": [
    "from frost_credentials.credentials import config"
   ]
  },
  {
   "cell_type": "code",
   "execution_count": null,
   "metadata": {},
   "outputs": [],
   "source": []
  }
 ],
 "metadata": {
  "kernelspec": {
   "display_name": "IND320_ml",
   "language": "python",
   "name": "python3"
  },
  "language_info": {
   "codemirror_mode": {
    "name": "ipython",
    "version": 3
   },
   "file_extension": ".py",
   "mimetype": "text/x-python",
   "name": "python",
   "nbconvert_exporter": "python",
   "pygments_lexer": "ipython3",
   "version": "3.11.5"
  }
 },
 "nbformat": 4,
 "nbformat_minor": 2
}
