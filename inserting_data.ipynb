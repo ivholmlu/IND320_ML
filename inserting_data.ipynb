{
 "cells": [
  {
   "cell_type": "code",
   "execution_count": 20,
   "metadata": {},
   "outputs": [],
   "source": [
    "import requests\n",
    "import pandas as pd\n",
    "\n",
    "from barentswatch.credentials import config\n",
    "from barentswatch.authentication import get_token"
   ]
  },
  {
   "cell_type": "code",
   "execution_count": 21,
   "metadata": {},
   "outputs": [],
   "source": [
    "\n",
    "import warnings\n",
    "from pprintpp import pprint\n",
    "warnings.simplefilter(action='ignore', category=FutureWarning)"
   ]
  },
  {
   "cell_type": "markdown",
   "metadata": {},
   "source": [
    "###### Using API to get data\n",
    "\n",
    "Link to ApiDocs: https://www.barentswatch.no/bwapi/openapi/index.html?urls.primaryName=Fishhealth%20API"
   ]
  },
  {
   "cell_type": "code",
   "execution_count": 22,
   "metadata": {},
   "outputs": [],
   "source": [
    "from functions import get_week_summary"
   ]
  },
  {
   "cell_type": "code",
   "execution_count": 23,
   "metadata": {},
   "outputs": [
    {
     "name": "stdout",
     "output_type": "stream",
     "text": [
      "Token request successful\n"
     ]
    },
    {
     "data": {
      "text/plain": [
       "dict"
      ]
     },
     "execution_count": 23,
     "metadata": {},
     "output_type": "execute_result"
    }
   ],
   "source": [
    "token = get_token()\n",
    "weeksummary= get_week_summary(token,'2017','45')\n",
    "type(weeksummary)"
   ]
  },
  {
   "cell_type": "markdown",
   "metadata": {},
   "source": [
    "##### Storing information from the entire year in table"
   ]
  },
  {
   "cell_type": "code",
   "execution_count": 24,
   "metadata": {},
   "outputs": [],
   "source": [
    "# Connecting to Cassandra\n",
    "from cassandra.cluster import Cluster\n",
    "cluster = Cluster(['localhost'], port=9042)\n",
    "session = cluster.connect()"
   ]
  },
  {
   "cell_type": "code",
   "execution_count": null,
   "metadata": {},
   "outputs": [],
   "source": [
    "from cassandra.cluster import Cluster\n",
    "from cassandra.query import SimpleStatement\n",
    "\n",
    "# Establish a connection to the Cassandra cluster\n",
    "cluster = Cluster(['127.0.0.1'])  # assuming Cassandra is running on localhost\n",
    "session = cluster.connect()\n",
    "\n",
    "session.set_keyspace('fish_data')\n",
    "\n",
    "table_creation_query = \"\"\"\n",
    "    CREATE TABLE IF NOT EXISTS locality_data (\n",
    "        year INT,\n",
    "        week INT,\n",
    "        localityNo INT,\n",
    "        localityWeekId INT PRIMARY KEY,\n",
    "        name TEXT,\n",
    "        hasReportedLice BOOLEAN,\n",
    "        isFallow BOOLEAN,\n",
    "        avgAdultFemaleLice DOUBLE,\n",
    "        hasCleanerfishDeployed BOOLEAN,\n",
    "        hasMechanicalRemoval BOOLEAN,\n",
    "        hasSubstanceTreatments BOOLEAN,\n",
    "        hasPd BOOLEAN,\n",
    "        hasIla BOOLEAN,\n",
    "        municipalityNo TEXT,\n",
    "        municipality TEXT,\n",
    "        lat DOUBLE,\n",
    "        lon DOUBLE,\n",
    "        isOnLand BOOLEAN,\n",
    "        inFilteredSelection BOOLEAN,\n",
    "        hasSalmonoids BOOLEAN,\n",
    "        isSlaughterHoldingCage BOOLEAN\n",
    "    );\n",
    "\"\"\"\n",
    "#session.execute(table_creation_query) # Uncomment to create the table\n",
    "\n",
    "# Define the INSERT statement\n",
    "insert_query = \"\"\"\n",
    "    INSERT INTO locality_data (year, week, localityNo, localityWeekId, name, hasReportedLice, isFallow, \n",
    "                               avgAdultFemaleLice, hasCleanerfishDeployed, hasMechanicalRemoval, \n",
    "                               hasSubstanceTreatments, hasPd, hasIla, municipalityNo, municipality, \n",
    "                               lat, lon, isOnLand, inFilteredSelection, hasSalmonoids, isSlaughterHoldingCage)\n",
    "    VALUES (%s, %s, %s, %s, %s, %s, %s, %s, %s, %s, %s, %s, %s, %s, %s, %s, %s, %s, %s, %s, %s);\n",
    "\"\"\""
   ]
  },
  {
   "cell_type": "code",
   "execution_count": null,
   "metadata": {},
   "outputs": [],
   "source": [
    "\n",
    "for week in range(1, 53):\n",
    "    print(f'Inserting data for week {week}...')\n",
    "    weeksummary = get_week_summary(token, '2021', str(week))\n",
    "\n",
    "    for locality in weeksummary['localities']:\n",
    "        session.execute(\n",
    "            insert_query,\n",
    "            (\n",
    "                weeksummary['year'],\n",
    "                weeksummary['week'],\n",
    "                locality['localityNo'],\n",
    "                locality['localityWeekId'],\n",
    "                locality['name'],\n",
    "                locality['hasReportedLice'],\n",
    "                locality['isFallow'],\n",
    "                locality['avgAdultFemaleLice'],\n",
    "                locality['hasCleanerfishDeployed'],\n",
    "                locality['hasMechanicalRemoval'],\n",
    "                locality['hasSubstanceTreatments'],\n",
    "                locality['hasPd'],\n",
    "                locality['hasIla'],\n",
    "                locality['municipalityNo'],\n",
    "                locality['municipality'],\n",
    "                locality['lat'],\n",
    "                locality['lon'],\n",
    "                locality['isOnLand'],\n",
    "                locality['inFilteredSelection'],\n",
    "                locality['hasSalmonoids'],\n",
    "                locality['isSlaughterHoldingCage']\n",
    "            )\n",
    "        )"
   ]
  },
  {
   "cell_type": "markdown",
   "metadata": {},
   "source": []
  },
  {
   "cell_type": "code",
   "execution_count": null,
   "metadata": {},
   "outputs": [],
   "source": []
  },
  {
   "cell_type": "markdown",
   "metadata": {},
   "source": [
    "##### Activating pyspark"
   ]
  },
  {
   "cell_type": "code",
   "execution_count": 25,
   "metadata": {},
   "outputs": [],
   "source": [
    "import os\n",
    "\n",
    "os.environ[\"PYSPARK_PYTHON\"] = r\"C:\\Users\\holml\\anaconda3\\envs\\IND320_ml\\python.exe\" \n",
    "os.environ[\"PYSPARK_DRIVER_PYTHON\"] = r\"C:\\Users\\holml\\anaconda3\\envs\\IND320_ml\\python.exe\"\n",
    "os.environ[\"HADOOP_HOME\"] = r\"C:\\Source\\winutils\\hadoop-3.3.1\"\n",
    "os.environ[\"PYSPARK_HADOOP_VERSION\"] = r\"C:\\Source\\winutils\\hadoop-3.3.1\""
   ]
  },
  {
   "cell_type": "code",
   "execution_count": 26,
   "metadata": {},
   "outputs": [],
   "source": [
    "from pyspark.sql import SparkSession\n",
    "spark = SparkSession.builder.appName('SparkCassandraApp').\\\n",
    "    config('spark.jars.packages', 'com.datastax.spark:spark-cassandra-connector_2.12:3.4.1').\\\n",
    "    config('spark.cassandra.connection.host', 'localhost').\\\n",
    "    config('spark.sql.extensions', 'com.datastax.spark.connector.CassandraSparkExtensions').\\\n",
    "    config('spark.sql.catalog.mycatalog', 'com.datastax.spark.connector.datasource.CassandraCatalog').\\\n",
    "    config('spark.cassandra.connection.port', '9042').getOrCreate()"
   ]
  },
  {
   "cell_type": "markdown",
   "metadata": {},
   "source": [
    "#### Checking that the data has been inserted as intended"
   ]
  },
  {
   "cell_type": "code",
   "execution_count": 36,
   "metadata": {},
   "outputs": [
    {
     "name": "stdout",
     "output_type": "stream",
     "text": [
      "+--------------+------------------+----------------------+------+--------------------+-----+---------------+-------------+----------------------+-------------------+--------+--------+----------------------+---------+----------+---------+--------------------+--------------+-------------+----+----+\n",
      "|localityweekid|avgadultfemalelice|hascleanerfishdeployed|hasila|hasmechanicalremoval|haspd|hasreportedlice|hassalmonoids|hassubstancetreatments|infilteredselection|isfallow|isonland|isslaughterholdingcage|      lat|localityno|      lon|        municipality|municipalityno|         name|week|year|\n",
      "+--------------+------------------+----------------------+------+--------------------+-----+---------------+-------------+----------------------+-------------------+--------+--------+----------------------+---------+----------+---------+--------------------+--------------+-------------+----+----+\n",
      "|       1188512|              NULL|                 false| false|               false|false|          false|         true|                 false|               true|    true|   false|                 false|  66.3242|     21337|12.647583|               Lurøy|          1834|  Kveitholmen|   2|2021|\n",
      "|       1271683|              NULL|                 false| false|               false| true|          false|         true|                 false|               true|    true|   false|                 false|60.263667|     27315| 6.208383|          Ullensvang|          4618|     Vikane 1|  28|2021|\n",
      "|       1238472|              NULL|                 false| false|               false|false|          false|         true|                 false|               true|    true|    true|                 false|60.060277|     12139| 5.597183|              Tysnes|          4616|   Kjærefjord|  17|2021|\n",
      "|       1338241|              NULL|                 false| false|               false| true|          false|         true|                 false|               true|    true|   false|                 false| 63.44715|     31437| 8.167767|               Smøla|          1573|     Fuglåsen|  51|2021|\n",
      "|       1189687|              NULL|                 false| false|               false|false|          false|        false|                 false|               true|    true|   false|                 false|59.279783|     15338|   6.3216|          Hjelmeland|          1133|       Kjeura|   2|2021|\n",
      "|       1264327|              0.18|                 false| false|                true|false|           true|         true|                 false|               true|   false|   false|                 false|63.055333|     12872| 7.695317|        Kristiansund|          1505|   Kattholmen|  26|2021|\n",
      "|       1215800|              0.14|                 false| false|               false| true|           true|         true|                 false|               true|   false|   false|                 false|60.563233|     13870|   5.3535|               Alver|          4631|   Eikebærånæ|  10|2021|\n",
      "|       1276396|              NULL|                 false| false|               false|false|          false|         true|                 false|               true|    true|    true|                 false|66.689867|     45063|  13.1089|               Rødøy|          1836|        Rosøy|  29|2021|\n",
      "|       1214448|              NULL|                 false| false|               false|false|          false|        false|                 false|               true|    true|   false|                 false|  59.6412|     13204|  5.37015|               Sveio|          4612|     Storøy Ø|   9|2021|\n",
      "|       1258657|              NULL|                 false| false|               false|false|          false|         true|                 false|               true|    true|   false|                 false|60.969583|     11684| 5.168283|               Gulen|          4635|  Djupevika I|  24|2021|\n",
      "|       1247283|              NULL|                 false| false|               false|false|          false|         true|                 false|               true|    true|    true|                 false|68.991867|     13940|15.024767|              Øksnes|          1868|      Nyksund|  20|2021|\n",
      "|       1297147|              NULL|                 false| false|               false| true|          false|         true|                 false|               true|    true|   false|                 false|63.149745|     19855|  8.12855|                Aure|          1576|     Segelråa|  37|2021|\n",
      "|       1237285|              NULL|                 false| false|               false|false|          false|         true|                 false|               true|    true|   false|                 false|  61.2843|     11793|   4.7254|             Askvoll|          4645|  Ånnaholmane|  17|2021|\n",
      "|       1230519|              NULL|                 false| false|               false|false|          false|         true|                 false|               true|    true|    true|                 false|  61.0652|     12177| 5.905417|            Høyanger|          4638|       Sørebø|  14|2021|\n",
      "|       1209910|              NULL|                 false| false|               false|false|          false|         true|                 false|               true|   false|   false|                 false|70.625517|     10838|23.107933|          Hammerfest|          5406|Slettnesfjord|   8|2021|\n",
      "|       1310422|               0.0|                 false| false|               false|false|           true|         true|                 false|               true|   false|   false|                 false| 62.54865|     12298|   6.1417|               Giske|          1532|        Røysa|  42|2021|\n",
      "|       1211988|              NULL|                 false| false|               false|false|          false|        false|                 false|               true|    true|   false|                 false| 62.28755|     30697| 5.474833|Sande I Møre Og R...|          1514|  Klovholmane|   8|2021|\n",
      "|       1186224|               0.0|                 false| false|               false|false|           true|         true|                 false|               true|   false|   false|                 false|68.474867|     31077|17.303933|              Evenes|          1853|  Tjukkeneset|   1|2021|\n",
      "|       1293347|              NULL|                 false| false|               false|false|          false|         true|                 false|               true|    true|   false|                 false|64.295367|     12594|10.397483|                Osen|          5020|    Breidvika|  36|2021|\n",
      "|       1315877|              NULL|                 false| false|               false|false|          false|         true|                 false|               true|    true|    true|                 false|59.539404|     13637| 5.543704|          Vindafjord|          1160|       Trovåg|  43|2021|\n",
      "+--------------+------------------+----------------------+------+--------------------+-----+---------------+-------------+----------------------+-------------------+--------+--------+----------------------+---------+----------+---------+--------------------+--------------+-------------+----+----+\n",
      "only showing top 20 rows\n",
      "\n"
     ]
    }
   ],
   "source": [
    "#### Checking that the data has been inserted as intended\n",
    "spark.read.format(\"org.apache.spark.sql.cassandra\").options(table=\"locality_data\", keyspace=\"fish_data\").load().show()"
   ]
  },
  {
   "cell_type": "code",
   "execution_count": 37,
   "metadata": {},
   "outputs": [],
   "source": [
    "spark.read.format(\"org.apache.spark.sql.cassandra\")\\\n",
    ".options(table=\"locality_data\", keyspace=\"fish_data\").load()\\\n",
    ".createOrReplaceTempView(\"locality_view\")\n",
    "\n",
    "df_locality = spark.sql(\"select * from locality_view\").toPandas()"
   ]
  },
  {
   "cell_type": "code",
   "execution_count": 42,
   "metadata": {},
   "outputs": [],
   "source": [
    "def assign_region(lat):\n",
    "    if lat < 63.81:\n",
    "        return 'South'\n",
    "    elif lat <= 68.85:\n",
    "        return 'Middle'\n",
    "    else:\n",
    "        return 'North'"
   ]
  },
  {
   "cell_type": "code",
   "execution_count": 43,
   "metadata": {},
   "outputs": [
    {
     "name": "stdout",
     "output_type": "stream",
     "text": [
      "(88475, 21)\n"
     ]
    },
    {
     "data": {
      "text/html": [
       "<div>\n",
       "<style scoped>\n",
       "    .dataframe tbody tr th:only-of-type {\n",
       "        vertical-align: middle;\n",
       "    }\n",
       "\n",
       "    .dataframe tbody tr th {\n",
       "        vertical-align: top;\n",
       "    }\n",
       "\n",
       "    .dataframe thead th {\n",
       "        text-align: right;\n",
       "    }\n",
       "</style>\n",
       "<table border=\"1\" class=\"dataframe\">\n",
       "  <thead>\n",
       "    <tr style=\"text-align: right;\">\n",
       "      <th></th>\n",
       "      <th>localityweekid</th>\n",
       "      <th>avgadultfemalelice</th>\n",
       "      <th>hascleanerfishdeployed</th>\n",
       "      <th>hasila</th>\n",
       "      <th>hasmechanicalremoval</th>\n",
       "      <th>haspd</th>\n",
       "      <th>hasreportedlice</th>\n",
       "      <th>hassalmonoids</th>\n",
       "      <th>hassubstancetreatments</th>\n",
       "      <th>infilteredselection</th>\n",
       "      <th>...</th>\n",
       "      <th>isslaughterholdingcage</th>\n",
       "      <th>lat</th>\n",
       "      <th>localityno</th>\n",
       "      <th>lon</th>\n",
       "      <th>municipality</th>\n",
       "      <th>municipalityno</th>\n",
       "      <th>name</th>\n",
       "      <th>week</th>\n",
       "      <th>year</th>\n",
       "      <th>region</th>\n",
       "    </tr>\n",
       "  </thead>\n",
       "  <tbody>\n",
       "    <tr>\n",
       "      <th>0</th>\n",
       "      <td>1226735</td>\n",
       "      <td>NaN</td>\n",
       "      <td>False</td>\n",
       "      <td>False</td>\n",
       "      <td>False</td>\n",
       "      <td>False</td>\n",
       "      <td>False</td>\n",
       "      <td>True</td>\n",
       "      <td>False</td>\n",
       "      <td>True</td>\n",
       "      <td>...</td>\n",
       "      <td>False</td>\n",
       "      <td>63.994950</td>\n",
       "      <td>19977</td>\n",
       "      <td>9.928317</td>\n",
       "      <td>Åfjord</td>\n",
       "      <td>5058</td>\n",
       "      <td>Jektholmen</td>\n",
       "      <td>13</td>\n",
       "      <td>2021</td>\n",
       "      <td>Middle</td>\n",
       "    </tr>\n",
       "    <tr>\n",
       "      <th>1</th>\n",
       "      <td>1193801</td>\n",
       "      <td>0.11</td>\n",
       "      <td>False</td>\n",
       "      <td>False</td>\n",
       "      <td>False</td>\n",
       "      <td>False</td>\n",
       "      <td>True</td>\n",
       "      <td>True</td>\n",
       "      <td>False</td>\n",
       "      <td>True</td>\n",
       "      <td>...</td>\n",
       "      <td>False</td>\n",
       "      <td>68.823767</td>\n",
       "      <td>36118</td>\n",
       "      <td>15.400217</td>\n",
       "      <td>Sortland</td>\n",
       "      <td>1870</td>\n",
       "      <td>Bremnesøya</td>\n",
       "      <td>4</td>\n",
       "      <td>2021</td>\n",
       "      <td>Middle</td>\n",
       "    </tr>\n",
       "    <tr>\n",
       "      <th>2</th>\n",
       "      <td>1284666</td>\n",
       "      <td>0.00</td>\n",
       "      <td>False</td>\n",
       "      <td>False</td>\n",
       "      <td>False</td>\n",
       "      <td>False</td>\n",
       "      <td>True</td>\n",
       "      <td>True</td>\n",
       "      <td>False</td>\n",
       "      <td>True</td>\n",
       "      <td>...</td>\n",
       "      <td>False</td>\n",
       "      <td>59.907150</td>\n",
       "      <td>11605</td>\n",
       "      <td>5.159333</td>\n",
       "      <td>Fitjar</td>\n",
       "      <td>4615</td>\n",
       "      <td>Soløy Ø</td>\n",
       "      <td>33</td>\n",
       "      <td>2021</td>\n",
       "      <td>South</td>\n",
       "    </tr>\n",
       "    <tr>\n",
       "      <th>3</th>\n",
       "      <td>1293337</td>\n",
       "      <td>0.04</td>\n",
       "      <td>False</td>\n",
       "      <td>False</td>\n",
       "      <td>False</td>\n",
       "      <td>False</td>\n",
       "      <td>True</td>\n",
       "      <td>True</td>\n",
       "      <td>False</td>\n",
       "      <td>True</td>\n",
       "      <td>...</td>\n",
       "      <td>False</td>\n",
       "      <td>63.761867</td>\n",
       "      <td>12394</td>\n",
       "      <td>8.445183</td>\n",
       "      <td>Frøya</td>\n",
       "      <td>5014</td>\n",
       "      <td>Ørnøya</td>\n",
       "      <td>36</td>\n",
       "      <td>2021</td>\n",
       "      <td>South</td>\n",
       "    </tr>\n",
       "    <tr>\n",
       "      <th>4</th>\n",
       "      <td>1194192</td>\n",
       "      <td>NaN</td>\n",
       "      <td>False</td>\n",
       "      <td>False</td>\n",
       "      <td>False</td>\n",
       "      <td>False</td>\n",
       "      <td>False</td>\n",
       "      <td>True</td>\n",
       "      <td>False</td>\n",
       "      <td>True</td>\n",
       "      <td>...</td>\n",
       "      <td>True</td>\n",
       "      <td>59.226617</td>\n",
       "      <td>11969</td>\n",
       "      <td>5.853783</td>\n",
       "      <td>Stavanger</td>\n",
       "      <td>1103</td>\n",
       "      <td>Helgøy</td>\n",
       "      <td>4</td>\n",
       "      <td>2021</td>\n",
       "      <td>South</td>\n",
       "    </tr>\n",
       "  </tbody>\n",
       "</table>\n",
       "<p>5 rows × 22 columns</p>\n",
       "</div>"
      ],
      "text/plain": [
       "   localityweekid  avgadultfemalelice  hascleanerfishdeployed  hasila  \\\n",
       "0         1226735                 NaN                   False   False   \n",
       "1         1193801                0.11                   False   False   \n",
       "2         1284666                0.00                   False   False   \n",
       "3         1293337                0.04                   False   False   \n",
       "4         1194192                 NaN                   False   False   \n",
       "\n",
       "   hasmechanicalremoval  haspd  hasreportedlice  hassalmonoids  \\\n",
       "0                 False  False            False           True   \n",
       "1                 False  False             True           True   \n",
       "2                 False  False             True           True   \n",
       "3                 False  False             True           True   \n",
       "4                 False  False            False           True   \n",
       "\n",
       "   hassubstancetreatments  infilteredselection  ...  isslaughterholdingcage  \\\n",
       "0                   False                 True  ...                   False   \n",
       "1                   False                 True  ...                   False   \n",
       "2                   False                 True  ...                   False   \n",
       "3                   False                 True  ...                   False   \n",
       "4                   False                 True  ...                    True   \n",
       "\n",
       "         lat  localityno        lon  municipality  municipalityno        name  \\\n",
       "0  63.994950       19977   9.928317        Åfjord            5058  Jektholmen   \n",
       "1  68.823767       36118  15.400217      Sortland            1870  Bremnesøya   \n",
       "2  59.907150       11605   5.159333        Fitjar            4615     Soløy Ø   \n",
       "3  63.761867       12394   8.445183         Frøya            5014      Ørnøya   \n",
       "4  59.226617       11969   5.853783     Stavanger            1103      Helgøy   \n",
       "\n",
       "  week  year  region  \n",
       "0   13  2021  Middle  \n",
       "1    4  2021  Middle  \n",
       "2   33  2021   South  \n",
       "3   36  2021   South  \n",
       "4    4  2021   South  \n",
       "\n",
       "[5 rows x 22 columns]"
      ]
     },
     "execution_count": 43,
     "metadata": {},
     "output_type": "execute_result"
    }
   ],
   "source": [
    "print(df_locality.shape)\n",
    "\n",
    "df_locality['region'] = df_locality['lat'].apply(assign_region)\n",
    "df_locality.head()"
   ]
  },
  {
   "cell_type": "code",
   "execution_count": 46,
   "metadata": {},
   "outputs": [],
   "source": [
    "#Group by week and avgAdultFemaleLice\n",
    "df_grouped = df_locality.groupby(['week', 'avgadultfemalelice']).size().reset_index(name='counts')"
   ]
  },
  {
   "cell_type": "code",
   "execution_count": 58,
   "metadata": {},
   "outputs": [
    {
     "data": {
      "text/html": [
       "<div>\n",
       "<style scoped>\n",
       "    .dataframe tbody tr th:only-of-type {\n",
       "        vertical-align: middle;\n",
       "    }\n",
       "\n",
       "    .dataframe tbody tr th {\n",
       "        vertical-align: top;\n",
       "    }\n",
       "\n",
       "    .dataframe thead th {\n",
       "        text-align: right;\n",
       "    }\n",
       "</style>\n",
       "<table border=\"1\" class=\"dataframe\">\n",
       "  <thead>\n",
       "    <tr style=\"text-align: right;\">\n",
       "      <th>haspd</th>\n",
       "      <th>False</th>\n",
       "      <th>True</th>\n",
       "    </tr>\n",
       "    <tr>\n",
       "      <th>hasila</th>\n",
       "      <th></th>\n",
       "      <th></th>\n",
       "    </tr>\n",
       "  </thead>\n",
       "  <tbody>\n",
       "    <tr>\n",
       "      <th>False</th>\n",
       "      <td>64.127945</td>\n",
       "      <td>61.451657</td>\n",
       "    </tr>\n",
       "    <tr>\n",
       "      <th>True</th>\n",
       "      <td>67.357973</td>\n",
       "      <td>59.295500</td>\n",
       "    </tr>\n",
       "  </tbody>\n",
       "</table>\n",
       "</div>"
      ],
      "text/plain": [
       "haspd       False      True \n",
       "hasila                      \n",
       "False   64.127945  61.451657\n",
       "True    67.357973  59.295500"
      ]
     },
     "execution_count": 58,
     "metadata": {},
     "output_type": "execute_result"
    }
   ],
   "source": [
    "\n",
    "df_pivot1 = df_locality.pivot_table(index='hasila', columns='haspd', values='lat', aggfunc='mean')\n",
    "df_pivot1.head()"
   ]
  },
  {
   "cell_type": "markdown",
   "metadata": {},
   "source": [
    "##### Comments about pivot table\n"
   ]
  },
  {
   "cell_type": "code",
   "execution_count": 63,
   "metadata": {},
   "outputs": [
    {
     "data": {
      "text/plain": [
       "<Axes: xlabel='week'>"
      ]
     },
     "execution_count": 63,
     "metadata": {},
     "output_type": "execute_result"
    },
    {
     "data": {
      "image/png": "[encoded data removed]",
      "text/plain": [
       "<Figure size 1500x500 with 1 Axes>"
      ]
     },
     "metadata": {},
     "output_type": "display_data"
    }
   ],
   "source": [
    "df_pivot2 = df_locality.pivot_table(index='week', columns='region', values='avgadultfemalelice', aggfunc='mean')\n",
    "df_pivot2.plot(y=['North', 'Middle', 'South'], kind='line', figsize=(15, 5))\n",
    "\n",
    "#df_pivot2.head(52)"
   ]
  },
  {
   "cell_type": "markdown",
   "metadata": {},
   "source": [
    "#### Comments on plot\n",
    "\n",
    "From the plot we see that the amount of lice. It corresponds with the seatemperature, which makes sense since the viruses thrives/grotwth best in warm water. \n",
    "Maybe the delay from summer is due to \"golfstrømmen\" will need time to reach norway?"
   ]
  },
  {
   "cell_type": "markdown",
   "metadata": {},
   "source": [
    "### Doing it with using the API\n",
    "\n",
    "- Yields more specific information about the locality."
   ]
  },
  {
   "cell_type": "code",
   "execution_count": 27,
   "metadata": {},
   "outputs": [
    {
     "data": {
      "text/html": [
       "<div>\n",
       "<style scoped>\n",
       "    .dataframe tbody tr th:only-of-type {\n",
       "        vertical-align: middle;\n",
       "    }\n",
       "\n",
       "    .dataframe tbody tr th {\n",
       "        vertical-align: top;\n",
       "    }\n",
       "\n",
       "    .dataframe thead th {\n",
       "        text-align: right;\n",
       "    }\n",
       "</style>\n",
       "<table border=\"1\" class=\"dataframe\">\n",
       "  <thead>\n",
       "    <tr style=\"text-align: right;\">\n",
       "      <th></th>\n",
       "      <th>datetime</th>\n",
       "      <th>avgadultfemalelice</th>\n",
       "      <th>hasreportedlice</th>\n",
       "      <th>avgmobilelice</th>\n",
       "      <th>avgstationarylice</th>\n",
       "      <th>seatemperature</th>\n",
       "    </tr>\n",
       "  </thead>\n",
       "  <tbody>\n",
       "    <tr>\n",
       "      <th>0</th>\n",
       "      <td>2022-01-09</td>\n",
       "      <td>0.05</td>\n",
       "      <td>True</td>\n",
       "      <td>0.14</td>\n",
       "      <td>0.05</td>\n",
       "      <td>6.1</td>\n",
       "    </tr>\n",
       "    <tr>\n",
       "      <th>1</th>\n",
       "      <td>2022-01-16</td>\n",
       "      <td>0.06</td>\n",
       "      <td>True</td>\n",
       "      <td>0.44</td>\n",
       "      <td>0.04</td>\n",
       "      <td>5.5</td>\n",
       "    </tr>\n",
       "    <tr>\n",
       "      <th>2</th>\n",
       "      <td>2022-01-23</td>\n",
       "      <td>0.09</td>\n",
       "      <td>True</td>\n",
       "      <td>0.35</td>\n",
       "      <td>0.01</td>\n",
       "      <td>6.9</td>\n",
       "    </tr>\n",
       "  </tbody>\n",
       "</table>\n",
       "</div>"
      ],
      "text/plain": [
       "    datetime  avgadultfemalelice  hasreportedlice  avgmobilelice  \\\n",
       "0 2022-01-09                0.05             True           0.14   \n",
       "1 2022-01-16                0.06             True           0.44   \n",
       "2 2022-01-23                0.09             True           0.35   \n",
       "\n",
       "   avgstationarylice  seatemperature  \n",
       "0               0.05             6.1  \n",
       "1               0.04             5.5  \n",
       "2               0.01             6.9  "
      ]
     },
     "execution_count": 27,
     "metadata": {},
     "output_type": "execute_result"
    }
   ],
   "source": [
    "from functions import get_detailed_week_summary\n",
    "\n",
    "data = []\n",
    "localityid = 35297\n",
    "for week in range(1, 53):\n",
    "    weeksummary = get_detailed_week_summary(token, '2022', str(week), localityid)\n",
    "    locality_week_data = weeksummary['localityWeek']\n",
    "    datetime_object = pd.to_datetime('{}-W{}-7'.format(locality_week_data['year'],\\\n",
    "                                    locality_week_data['week']), format='%G-W%V-%u')\n",
    "    weekly_data = {\n",
    "    'datetime': datetime_object,\n",
    "    'avgadultfemalelice': locality_week_data['avgAdultFemaleLice'],\n",
    "    'hasreportedlice': locality_week_data['hasReportedLice'],\n",
    "    'avgmobilelice': locality_week_data['avgMobileLice'],\n",
    "    'avgstationarylice': locality_week_data['avgStationaryLice'],\n",
    "    'seatemperature': locality_week_data['seaTemperature']\n",
    "    }\n",
    "    data.append(weekly_data)\n",
    "df_35297 = pd.DataFrame(data)\n",
    "df_35297.head(3)"
   ]
  },
  {
   "cell_type": "code",
   "execution_count": 29,
   "metadata": {},
   "outputs": [
    {
     "data": {
      "text/plain": [
       "<Axes: xlabel='datetime'>"
      ]
     },
     "execution_count": 29,
     "metadata": {},
     "output_type": "execute_result"
    },
    {
     "data": {
      "image/png": "[encoded data removed]",
      "text/plain": [
       "<Figure size 640x480 with 1 Axes>"
      ]
     },
     "metadata": {},
     "output_type": "display_data"
    }
   ],
   "source": [
    "#plot seaTemperature\n",
    "df_35297.plot(x='datetime', y='seatemperature')"
   ]
  },
  {
   "cell_type": "code",
   "execution_count": null,
   "metadata": {},
   "outputs": [],
   "source": []
  },
  {
   "cell_type": "code",
   "execution_count": 34,
   "metadata": {},
   "outputs": [],
   "source": [
    "\n",
    "spark.createDataFrame(df_35297).write.format(\"org.apache.spark.sql.cassandra\")\\\n",
    ".options(table=\"id_35297\", keyspace=\"fish_data\").mode(\"append\").save()"
   ]
  },
  {
   "cell_type": "code",
   "execution_count": 35,
   "metadata": {},
   "outputs": [
    {
     "name": "stdout",
     "output_type": "stream",
     "text": [
      "+-------------------+------------------+-------------+-----------------+---------------+--------------+\n",
      "|           datetime|avgadultfemalelice|avgmobilelice|avgstationarylice|hasreportedlice|seatemperature|\n",
      "+-------------------+------------------+-------------+-----------------+---------------+--------------+\n",
      "|2022-01-09 00:00:00|              0.05|         0.14|             0.05|           true|           6.1|\n",
      "|2022-03-13 00:00:00|              0.14|         0.32|             0.04|           true|           6.5|\n",
      "|2022-07-03 00:00:00|              0.11|         0.34|             0.51|           true|          14.7|\n",
      "|2022-05-15 00:00:00|              0.04|         0.66|             0.24|           true|           9.4|\n",
      "|2022-05-01 00:00:00|              0.02|         0.18|              0.1|           true|           8.9|\n",
      "|2022-09-25 00:00:00|              0.38|         0.45|              0.0|           true|          15.5|\n",
      "|2022-08-28 00:00:00|              0.35|          0.4|             0.01|           true|          17.2|\n",
      "|2022-06-12 00:00:00|              0.22|          0.5|             0.11|           true|          12.2|\n",
      "|2023-01-01 00:00:00|              0.32|          0.4|             0.05|           true|           8.7|\n",
      "|2022-10-23 00:00:00|              0.18|         0.43|             0.02|           true|          12.5|\n",
      "|2022-03-06 00:00:00|              0.11|         0.45|             0.04|           true|           6.7|\n",
      "|2022-04-03 00:00:00|              0.18|         0.52|             0.66|           true|           5.8|\n",
      "|2022-05-22 00:00:00|               0.1|         0.55|             0.25|           true|           9.0|\n",
      "|2022-07-24 00:00:00|              0.32|         1.48|             0.52|           true|          16.4|\n",
      "|2022-02-06 00:00:00|              0.25|         0.92|             0.18|           true|           6.9|\n",
      "|2022-02-20 00:00:00|              0.24|         0.52|             0.05|           true|           6.9|\n",
      "|2022-04-24 00:00:00|              0.09|         0.43|             0.06|           true|           7.1|\n",
      "|2022-07-31 00:00:00|               0.1|         1.08|              0.0|           true|          16.9|\n",
      "|2022-11-06 00:00:00|              0.05|         0.32|              0.1|           true|          12.4|\n",
      "|2022-12-25 00:00:00|              0.18|         0.22|              0.1|           true|           8.3|\n",
      "+-------------------+------------------+-------------+-----------------+---------------+--------------+\n",
      "only showing top 20 rows\n",
      "\n"
     ]
    }
   ],
   "source": [
    "spark.read.format(\"org.apache.spark.sql.cassandra\").options(table=\"id_35297\", keyspace=\"fish_data\").load().show()"
   ]
  },
  {
   "cell_type": "markdown",
   "metadata": {},
   "source": [
    "### Inserting the weather data from Frost"
   ]
  },
  {
   "cell_type": "code",
   "execution_count": null,
   "metadata": {},
   "outputs": [],
   "source": [
    "from frost_credentials.credentials import ID\n",
    "import requests\n",
    "client_id = ID['client_id']\n",
    "client_secret = ID['client_secret']"
   ]
  },
  {
   "cell_type": "code",
   "execution_count": null,
   "metadata": {},
   "outputs": [],
   "source": [
    "id = \"SN65310\""
   ]
  },
  {
   "cell_type": "code",
   "execution_count": null,
   "metadata": {},
   "outputs": [],
   "source": [
    "endpoint = 'https://frost.met.no/observations/v0.jsonld'\n",
    "parameters = {\n",
    "    'sources': f'{id}',\n",
    "    'elements': 'mean(air_temperature P1D),\\\n",
    "        sum(precipitation_amount P1D),\\\n",
    "        mean(wind_speed P1D),\\\n",
    "        mean(relative_humidity P1D),\\\n",
    "        mean(seaTemperature P1D),)',\n",
    "    'referencetime': '2021-01-01/2022-01-01'}\n",
    "r = requests.get(endpoint, parameters, auth=(client_id,''))\n",
    "\n",
    "json = r.json()\n",
    "\n",
    "if r.status_code == 200:\n",
    "    obs_data = json['data']\n",
    "    print('Data retrieved from frost.met.no!')\n",
    "else:\n",
    "    print('Error! Returned status code %s' % r.status_code)\n",
    "    print('Message: %s' % json['error']['message'])\n",
    "    print('Reason: %s' % json['error']['reason'])"
   ]
  },
  {
   "cell_type": "code",
   "execution_count": null,
   "metadata": {},
   "outputs": [],
   "source": [
    "obs_data"
   ]
  },
  {
   "cell_type": "code",
   "execution_count": null,
   "metadata": {},
   "outputs": [],
   "source": [
    "import pandas as pd"
   ]
  },
  {
   "cell_type": "code",
   "execution_count": null,
   "metadata": {},
   "outputs": [],
   "source": [
    "# This will return a Dataframe with all of the observations in a table format\n",
    "df_total = pd.DataFrame()\n",
    "for i in range(len(obs_data)):\n",
    "    row = pd.DataFrame(obs_data[i]['observations'])\n",
    "    row['referenceTime'] = obs_data[i]['referenceTime']\n",
    "    row['sourceId'] = obs_data[i]['sourceId']\n",
    "    df_total = pd.concat([df_total, row])"
   ]
  },
  {
   "cell_type": "code",
   "execution_count": null,
   "metadata": {},
   "outputs": [],
   "source": [
    "# These additional columns will be kept\n",
    "columns = ['sourceId','referenceTime','elementId','value','unit','timeOffset']\n",
    "df = df_total[columns].copy()\n",
    "# Convert the time value to something Python understands\n",
    "df['referenceTime'] = pd.to_datetime(df['referenceTime'])"
   ]
  },
  {
   "cell_type": "code",
   "execution_count": null,
   "metadata": {},
   "outputs": [],
   "source": [
    "print(df.shape)\n",
    "df.head()"
   ]
  },
  {
   "cell_type": "code",
   "execution_count": null,
   "metadata": {},
   "outputs": [],
   "source": [
    "#Plot each of the unique elements from elementId, where x is the referenceTime and y is the value\n",
    "import matplotlib.pyplot as plt\n",
    "import seaborn as sns\n",
    "\n",
    "for element in df['elementId'].unique():\n",
    "    df_element = df[df['elementId'] == element]\n",
    "    plt.figure(figsize=(15,5))\n",
    "    sns.lineplot(x='referenceTime', y='value', data=df_element)\n",
    "    plt.title(element)\n",
    "    plt.show()"
   ]
  },
  {
   "cell_type": "code",
   "execution_count": null,
   "metadata": {},
   "outputs": [],
   "source": []
  }
 ],
 "metadata": {
  "kernelspec": {
   "display_name": "IND320_ml",
   "language": "python",
   "name": "python3"
  },
  "language_info": {
   "codemirror_mode": {
    "name": "ipython",
    "version": 3
   },
   "file_extension": ".py",
   "mimetype": "text/x-python",
   "name": "python",
   "nbconvert_exporter": "python",
   "pygments_lexer": "ipython3",
   "version": "3.11.5"
  }
 },
 "nbformat": 4,
 "nbformat_minor": 2
}
