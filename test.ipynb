{
 "cells": [
  {
   "cell_type": "code",
   "execution_count": 1,
   "metadata": {},
   "outputs": [],
   "source": [
    "from table_creations import *\n",
    "import requests\n",
    "from credentials import config\n",
    "from authentication import get_token\n",
    "import pandas as pd\n",
    "import time"
   ]
  },
  {
   "cell_type": "code",
   "execution_count": 2,
   "metadata": {},
   "outputs": [],
   "source": [
    "from cassandra.cluster import Cluster\n",
    "cluster = Cluster(['localhost'], port=9042)\n",
    "session = cluster.connect() #Kan vel være et argument til funksjonen? Tenkte på dette"
   ]
  },
  {
   "cell_type": "code",
   "execution_count": 3,
   "metadata": {},
   "outputs": [],
   "source": [
    "create_keyspace(session, keyspace='fish_data')\n",
    "reset_table(session, keyspace='fish_space', table_name='localities')"
   ]
  },
  {
   "cell_type": "code",
   "execution_count": 4,
   "metadata": {},
   "outputs": [],
   "source": [
    "create_locality_table(session)"
   ]
  },
  {
   "cell_type": "code",
   "execution_count": 5,
   "metadata": {},
   "outputs": [
    {
     "data": {
      "text/html": [
       "<div>\n",
       "<style scoped>\n",
       "    .dataframe tbody tr th:only-of-type {\n",
       "        vertical-align: middle;\n",
       "    }\n",
       "\n",
       "    .dataframe tbody tr th {\n",
       "        vertical-align: top;\n",
       "    }\n",
       "\n",
       "    .dataframe thead th {\n",
       "        text-align: right;\n",
       "    }\n",
       "</style>\n",
       "<table border=\"1\" class=\"dataframe\">\n",
       "  <thead>\n",
       "    <tr style=\"text-align: right;\">\n",
       "      <th></th>\n",
       "      <th>mean(air_temperature P1D)</th>\n",
       "      <th>mean(wind_speed P1D)</th>\n",
       "      <th>mean(relative_humidity P1D)</th>\n",
       "      <th>week</th>\n",
       "      <th>year</th>\n",
       "      <th>referenceTime</th>\n",
       "      <th>sourceId</th>\n",
       "    </tr>\n",
       "  </thead>\n",
       "  <tbody>\n",
       "    <tr>\n",
       "      <th>0</th>\n",
       "      <td>4.6</td>\n",
       "      <td>6.4</td>\n",
       "      <td>72</td>\n",
       "      <td>0</td>\n",
       "      <td>2022</td>\n",
       "      <td>2022-01-01T00:00:00.000Z</td>\n",
       "      <td>SN65310:0</td>\n",
       "    </tr>\n",
       "    <tr>\n",
       "      <th>0</th>\n",
       "      <td>4.0</td>\n",
       "      <td>10.2</td>\n",
       "      <td>86</td>\n",
       "      <td>0</td>\n",
       "      <td>2022</td>\n",
       "      <td>2022-01-02T00:00:00.000Z</td>\n",
       "      <td>SN65310:0</td>\n",
       "    </tr>\n",
       "    <tr>\n",
       "      <th>0</th>\n",
       "      <td>6.3</td>\n",
       "      <td>7.0</td>\n",
       "      <td>90</td>\n",
       "      <td>1</td>\n",
       "      <td>2022</td>\n",
       "      <td>2022-01-03T00:00:00.000Z</td>\n",
       "      <td>SN65310:0</td>\n",
       "    </tr>\n",
       "    <tr>\n",
       "      <th>0</th>\n",
       "      <td>3.3</td>\n",
       "      <td>6.6</td>\n",
       "      <td>77</td>\n",
       "      <td>1</td>\n",
       "      <td>2022</td>\n",
       "      <td>2022-01-04T00:00:00.000Z</td>\n",
       "      <td>SN65310:0</td>\n",
       "    </tr>\n",
       "    <tr>\n",
       "      <th>0</th>\n",
       "      <td>1.1</td>\n",
       "      <td>8.7</td>\n",
       "      <td>78</td>\n",
       "      <td>1</td>\n",
       "      <td>2022</td>\n",
       "      <td>2022-01-05T00:00:00.000Z</td>\n",
       "      <td>SN65310:0</td>\n",
       "    </tr>\n",
       "  </tbody>\n",
       "</table>\n",
       "</div>"
      ],
      "text/plain": [
       "   mean(air_temperature P1D)  mean(wind_speed P1D)  \\\n",
       "0                        4.6                   6.4   \n",
       "0                        4.0                  10.2   \n",
       "0                        6.3                   7.0   \n",
       "0                        3.3                   6.6   \n",
       "0                        1.1                   8.7   \n",
       "\n",
       "   mean(relative_humidity P1D)  week  year             referenceTime  \\\n",
       "0                           72     0  2022  2022-01-01T00:00:00.000Z   \n",
       "0                           86     0  2022  2022-01-02T00:00:00.000Z   \n",
       "0                           90     1  2022  2022-01-03T00:00:00.000Z   \n",
       "0                           77     1  2022  2022-01-04T00:00:00.000Z   \n",
       "0                           78     1  2022  2022-01-05T00:00:00.000Z   \n",
       "\n",
       "    sourceId  \n",
       "0  SN65310:0  \n",
       "0  SN65310:0  \n",
       "0  SN65310:0  \n",
       "0  SN65310:0  \n",
       "0  SN65310:0  "
      ]
     },
     "execution_count": 5,
     "metadata": {},
     "output_type": "execute_result"
    }
   ],
   "source": [
    "from api_creations import *\n",
    "df = api_weather_station_id(id = \"SN65310\", year=\"2022\")\n",
    "df.head()"
   ]
  },
  {
   "cell_type": "code",
   "execution_count": 6,
   "metadata": {},
   "outputs": [],
   "source": [
    "def get_week_summary_locality(token, year, week, localityID):\n",
    "  url = f\"{config['api_base_url']}/v1/geodata/fishhealth/locality/{localityID}/{year}/{week}\"\n",
    "  headers ={\n",
    "    'authorization': 'Bearer ' + token['access_token'],\n",
    "    'content-type': 'application/json',\n",
    "  }\n",
    "\n",
    "  response = requests.get(url, headers=headers)\n",
    "  response.raise_for_status()\n",
    "  return response.json()  "
   ]
  },
  {
   "cell_type": "code",
   "execution_count": 7,
   "metadata": {},
   "outputs": [],
   "source": [
    "def get_week_summary(token, year, week):\n",
    "  url = f\"{config['api_base_url']}/v1/geodata/fishhealth/locality/{year}/{week}\"\n",
    "  headers ={\n",
    "    'authorization': 'Bearer ' + token['access_token'],\n",
    "    'content-type': 'application/json',\n",
    "  }\n",
    "\n",
    "  response = requests.get(url, headers=headers)\n",
    "  response.raise_for_status()\n",
    "  return response.json()\n",
    "import time"
   ]
  },
  {
   "cell_type": "code",
   "execution_count": 8,
   "metadata": {},
   "outputs": [
    {
     "name": "stdout",
     "output_type": "stream",
     "text": [
      "Token request successful\n"
     ]
    }
   ],
   "source": [
    "token = get_token()\n",
    "year = 2022\n",
    "localityNo = 30977\n",
    "#Kepp these values year INT,\n",
    "\"\"\"     week INT,\n",
    "    localityno INT,\n",
    "    datetime TEXT,\n",
    "    avgadultfemalelice FLOAT,\n",
    "    hasreportedlice BOOLEAN,\n",
    "    avgmobilelice FLOAT,\n",
    "    avgstationarylice FLOAT,\n",
    "    seatemperature FLOAT, \"\"\"\n",
    "values_to_keep = [\"week\", \"year\", \"localityNo\", \"avgAdultFemaleLice\", \"hasReportedLice\", \"avgMobileLice\", \"avgStationaryLice\", \"seaTemperature\"]"
   ]
  },
  {
   "cell_type": "code",
   "execution_count": 9,
   "metadata": {},
   "outputs": [],
   "source": [
    "\n",
    "from table_creations import *\n",
    "from api_creations import *\n",
    "from use_spark import *\n",
    "localityNo = 30977"
   ]
  },
  {
   "cell_type": "code",
   "execution_count": 10,
   "metadata": {},
   "outputs": [],
   "source": [
    "from cassandra.cluster import Cluster\n",
    "cluster = Cluster(['localhost'], port=9042)\n",
    "session = cluster.connect() #Kan vel være et argument til funksjonen? Tenkte på dette"
   ]
  },
  {
   "cell_type": "code",
   "execution_count": 11,
   "metadata": {},
   "outputs": [
    {
     "name": "stdout",
     "output_type": "stream",
     "text": [
      "Token request successful\n"
     ]
    },
    {
     "name": "stderr",
     "output_type": "stream",
     "text": [
      "/tmp/ipykernel_61819/3913724197.py:14: FutureWarning: The behavior of DataFrame concatenation with empty or all-NA entries is deprecated. In a future version, this will no longer exclude empty or all-NA columns when determining the result dtypes. To retain the old behavior, exclude the relevant entries before the concat operation.\n",
      "  df_locality = pd.concat([df_locality, pd.DataFrame([row])], ignore_index=True)\n"
     ]
    }
   ],
   "source": [
    "token = get_token()\n",
    "df_locality = pd.DataFrame()\n",
    "for week in range(1, 53):\n",
    "\n",
    "    row = {}\n",
    "    locality_data = get_week_summary_locality(token, year, week, localityNo)\n",
    "    for val in values_to_keep:\n",
    "        row[val.lower()] = locality_data[\"localityWeek\"][val]\n",
    "    row[\"localityname\"] = locality_data[\"localityName\"]\n",
    "    \n",
    "    df_locality = pd.concat([df_locality, pd.DataFrame([row])], ignore_index=True)"
   ]
  },
  {
   "cell_type": "code",
   "execution_count": 12,
   "metadata": {},
   "outputs": [],
   "source": [
    "create_localities_table(session, locality_id = localityNo)"
   ]
  },
  {
   "cell_type": "code",
   "execution_count": 13,
   "metadata": {},
   "outputs": [
    {
     "name": "stderr",
     "output_type": "stream",
     "text": [
      "your 131072x1 screen size is bogus. expect trouble\n",
      "23/11/29 13:49:43 WARN Utils: Your hostname, Ivars-PC resolves to a loopback address: 127.0.1.1; using 172.23.6.83 instead (on interface eth0)\n",
      "23/11/29 13:49:43 WARN Utils: Set SPARK_LOCAL_IP if you need to bind to another address\n"
     ]
    },
    {
     "name": "stdout",
     "output_type": "stream",
     "text": [
      ":: loading settings :: url = jar:file:/home/ivholmlu/.local/lib/python3.10/site-packages/pyspark/jars/ivy-2.5.1.jar!/org/apache/ivy/core/settings/ivysettings.xml\n"
     ]
    },
    {
     "name": "stderr",
     "output_type": "stream",
     "text": [
      "Ivy Default Cache set to: /home/ivholmlu/.ivy2/cache\n",
      "The jars for the packages stored in: /home/ivholmlu/.ivy2/jars\n",
      "com.datastax.spark#spark-cassandra-connector_2.12 added as a dependency\n",
      ":: resolving dependencies :: org.apache.spark#spark-submit-parent-1f9b25ce-7b0e-4fe4-854a-ff2273fb8ee6;1.0\n",
      "\tconfs: [default]\n",
      "\tfound com.datastax.spark#spark-cassandra-connector_2.12;3.4.1 in central\n",
      "\tfound com.datastax.spark#spark-cassandra-connector-driver_2.12;3.4.1 in central\n",
      "\tfound org.scala-lang.modules#scala-collection-compat_2.12;2.11.0 in central\n",
      "\tfound com.datastax.oss#java-driver-core-shaded;4.13.0 in central\n",
      "\tfound com.datastax.oss#native-protocol;1.5.0 in central\n",
      "\tfound com.datastax.oss#java-driver-shaded-guava;25.1-jre-graal-sub-1 in central\n",
      "\tfound com.typesafe#config;1.4.1 in central\n",
      "\tfound org.slf4j#slf4j-api;1.7.26 in central\n",
      "\tfound io.dropwizard.metrics#metrics-core;4.1.18 in central\n",
      "\tfound org.hdrhistogram#HdrHistogram;2.1.12 in central\n",
      "\tfound org.reactivestreams#reactive-streams;1.0.3 in central\n",
      "\tfound com.github.stephenc.jcip#jcip-annotations;1.0-1 in central\n",
      "\tfound com.github.spotbugs#spotbugs-annotations;3.1.12 in central\n",
      "\tfound com.google.code.findbugs#jsr305;3.0.2 in central\n",
      "\tfound com.datastax.oss#java-driver-mapper-runtime;4.13.0 in central\n",
      "\tfound com.datastax.oss#java-driver-query-builder;4.13.0 in central\n",
      "\tfound org.apache.commons#commons-lang3;3.10 in central\n",
      "\tfound com.thoughtworks.paranamer#paranamer;2.8 in central\n",
      "\tfound org.scala-lang#scala-reflect;2.12.11 in central\n",
      ":: resolution report :: resolve 489ms :: artifacts dl 12ms\n",
      "\t:: modules in use:\n",
      "\tcom.datastax.oss#java-driver-core-shaded;4.13.0 from central in [default]\n",
      "\tcom.datastax.oss#java-driver-mapper-runtime;4.13.0 from central in [default]\n",
      "\tcom.datastax.oss#java-driver-query-builder;4.13.0 from central in [default]\n",
      "\tcom.datastax.oss#java-driver-shaded-guava;25.1-jre-graal-sub-1 from central in [default]\n",
      "\tcom.datastax.oss#native-protocol;1.5.0 from central in [default]\n",
      "\tcom.datastax.spark#spark-cassandra-connector-driver_2.12;3.4.1 from central in [default]\n",
      "\tcom.datastax.spark#spark-cassandra-connector_2.12;3.4.1 from central in [default]\n",
      "\tcom.github.spotbugs#spotbugs-annotations;3.1.12 from central in [default]\n",
      "\tcom.github.stephenc.jcip#jcip-annotations;1.0-1 from central in [default]\n",
      "\tcom.google.code.findbugs#jsr305;3.0.2 from central in [default]\n",
      "\tcom.thoughtworks.paranamer#paranamer;2.8 from central in [default]\n",
      "\tcom.typesafe#config;1.4.1 from central in [default]\n",
      "\tio.dropwizard.metrics#metrics-core;4.1.18 from central in [default]\n",
      "\torg.apache.commons#commons-lang3;3.10 from central in [default]\n",
      "\torg.hdrhistogram#HdrHistogram;2.1.12 from central in [default]\n",
      "\torg.reactivestreams#reactive-streams;1.0.3 from central in [default]\n",
      "\torg.scala-lang#scala-reflect;2.12.11 from central in [default]\n",
      "\torg.scala-lang.modules#scala-collection-compat_2.12;2.11.0 from central in [default]\n",
      "\torg.slf4j#slf4j-api;1.7.26 from central in [default]\n",
      "\t---------------------------------------------------------------------\n",
      "\t|                  |            modules            ||   artifacts   |\n",
      "\t|       conf       | number| search|dwnlded|evicted|| number|dwnlded|\n",
      "\t---------------------------------------------------------------------\n",
      "\t|      default     |   19  |   0   |   0   |   0   ||   19  |   0   |\n",
      "\t---------------------------------------------------------------------\n",
      ":: retrieving :: org.apache.spark#spark-submit-parent-1f9b25ce-7b0e-4fe4-854a-ff2273fb8ee6\n",
      "\tconfs: [default]\n",
      "\t0 artifacts copied, 19 already retrieved (0kB/10ms)\n",
      "23/11/29 13:49:45 WARN NativeCodeLoader: Unable to load native-hadoop library for your platform... using builtin-java classes where applicable\n",
      "Setting default log level to \"WARN\".\n",
      "To adjust logging level use sc.setLogLevel(newLevel). For SparkR, use setLogLevel(newLevel).\n"
     ]
    }
   ],
   "source": [
    "spark = initiate_spark()"
   ]
  },
  {
   "cell_type": "code",
   "execution_count": 14,
   "metadata": {},
   "outputs": [
    {
     "data": {
      "text/html": [
       "<div>\n",
       "<style scoped>\n",
       "    .dataframe tbody tr th:only-of-type {\n",
       "        vertical-align: middle;\n",
       "    }\n",
       "\n",
       "    .dataframe tbody tr th {\n",
       "        vertical-align: top;\n",
       "    }\n",
       "\n",
       "    .dataframe thead th {\n",
       "        text-align: right;\n",
       "    }\n",
       "</style>\n",
       "<table border=\"1\" class=\"dataframe\">\n",
       "  <thead>\n",
       "    <tr style=\"text-align: right;\">\n",
       "      <th></th>\n",
       "      <th>week</th>\n",
       "      <th>year</th>\n",
       "      <th>localityno</th>\n",
       "      <th>avgadultfemalelice</th>\n",
       "      <th>hasreportedlice</th>\n",
       "      <th>avgmobilelice</th>\n",
       "      <th>avgstationarylice</th>\n",
       "      <th>seatemperature</th>\n",
       "      <th>localityname</th>\n",
       "    </tr>\n",
       "  </thead>\n",
       "  <tbody>\n",
       "    <tr>\n",
       "      <th>0</th>\n",
       "      <td>1</td>\n",
       "      <td>2022</td>\n",
       "      <td>30977</td>\n",
       "      <td>0.00</td>\n",
       "      <td>True</td>\n",
       "      <td>0.10</td>\n",
       "      <td>0.05</td>\n",
       "      <td>4.0</td>\n",
       "      <td>Æsøya</td>\n",
       "    </tr>\n",
       "    <tr>\n",
       "      <th>1</th>\n",
       "      <td>2</td>\n",
       "      <td>2022</td>\n",
       "      <td>30977</td>\n",
       "      <td>0.01</td>\n",
       "      <td>True</td>\n",
       "      <td>0.12</td>\n",
       "      <td>0.07</td>\n",
       "      <td>4.9</td>\n",
       "      <td>Æsøya</td>\n",
       "    </tr>\n",
       "    <tr>\n",
       "      <th>2</th>\n",
       "      <td>3</td>\n",
       "      <td>2022</td>\n",
       "      <td>30977</td>\n",
       "      <td>0.00</td>\n",
       "      <td>True</td>\n",
       "      <td>0.10</td>\n",
       "      <td>0.05</td>\n",
       "      <td>5.2</td>\n",
       "      <td>Æsøya</td>\n",
       "    </tr>\n",
       "    <tr>\n",
       "      <th>3</th>\n",
       "      <td>4</td>\n",
       "      <td>2022</td>\n",
       "      <td>30977</td>\n",
       "      <td>0.00</td>\n",
       "      <td>True</td>\n",
       "      <td>0.02</td>\n",
       "      <td>0.00</td>\n",
       "      <td>5.0</td>\n",
       "      <td>Æsøya</td>\n",
       "    </tr>\n",
       "    <tr>\n",
       "      <th>4</th>\n",
       "      <td>5</td>\n",
       "      <td>2022</td>\n",
       "      <td>30977</td>\n",
       "      <td>NaN</td>\n",
       "      <td>False</td>\n",
       "      <td>NaN</td>\n",
       "      <td>NaN</td>\n",
       "      <td>3.8</td>\n",
       "      <td>Æsøya</td>\n",
       "    </tr>\n",
       "  </tbody>\n",
       "</table>\n",
       "</div>"
      ],
      "text/plain": [
       "   week  year  localityno  avgadultfemalelice  hasreportedlice  avgmobilelice  \\\n",
       "0     1  2022       30977                0.00             True           0.10   \n",
       "1     2  2022       30977                0.01             True           0.12   \n",
       "2     3  2022       30977                0.00             True           0.10   \n",
       "3     4  2022       30977                0.00             True           0.02   \n",
       "4     5  2022       30977                 NaN            False            NaN   \n",
       "\n",
       "   avgstationarylice  seatemperature localityname  \n",
       "0               0.05             4.0        Æsøya  \n",
       "1               0.07             4.9        Æsøya  \n",
       "2               0.05             5.2        Æsøya  \n",
       "3               0.00             5.0        Æsøya  \n",
       "4                NaN             3.8        Æsøya  "
      ]
     },
     "execution_count": 14,
     "metadata": {},
     "output_type": "execute_result"
    }
   ],
   "source": [
    "df_locality.head()"
   ]
  },
  {
   "cell_type": "code",
   "execution_count": 15,
   "metadata": {},
   "outputs": [],
   "source": [
    "def insert_into_locality(spark, locality_id, df, keyspace=\"fish_data\"):\n",
    "    #make spark dataframe from df\n",
    "    spark_df = spark.createDataFrame(df)\n",
    "    spark_df.write\\\n",
    "        .format(\"org.apache.spark.sql.cassandra\")\\\n",
    "        .mode('append')\\\n",
    "        .options(table=f\"locality_{locality_id}\", keyspace=keyspace)\\\n",
    "        .save()\n"
   ]
  },
  {
   "cell_type": "code",
   "execution_count": 16,
   "metadata": {},
   "outputs": [
    {
     "name": "stderr",
     "output_type": "stream",
     "text": [
      "/home/ivholmlu/.local/lib/python3.10/site-packages/pyspark/sql/pandas/conversion.py:485: FutureWarning: is_datetime64tz_dtype is deprecated and will be removed in a future version. Check `isinstance(dtype, pd.DatetimeTZDtype)` instead.\n",
      "  if should_localize and is_datetime64tz_dtype(s.dtype) and s.dt.tz is not None:\n",
      "                                                                                \r"
     ]
    }
   ],
   "source": [
    "insert_into_locality(spark, localityNo, df_locality)"
   ]
  },
  {
   "cell_type": "code",
   "execution_count": 18,
   "metadata": {},
   "outputs": [],
   "source": [
    "def get_locality_table(session, locality_id, keyspace=\"fish_data\"):\n",
    "    #Return as pandas dataframe\n",
    "\n",
    "    query = f\"SELECT * FROM {keyspace}.locality_{locality_id}\"\n",
    "    df = pd.DataFrame(list(session.execute(query)))\n",
    "    return df"
   ]
  },
  {
   "cell_type": "code",
   "execution_count": 19,
   "metadata": {},
   "outputs": [
    {
     "data": {
      "text/html": [
       "<div>\n",
       "<style scoped>\n",
       "    .dataframe tbody tr th:only-of-type {\n",
       "        vertical-align: middle;\n",
       "    }\n",
       "\n",
       "    .dataframe tbody tr th {\n",
       "        vertical-align: top;\n",
       "    }\n",
       "\n",
       "    .dataframe thead th {\n",
       "        text-align: right;\n",
       "    }\n",
       "</style>\n",
       "<table border=\"1\" class=\"dataframe\">\n",
       "  <thead>\n",
       "    <tr style=\"text-align: right;\">\n",
       "      <th></th>\n",
       "      <th>year</th>\n",
       "      <th>week</th>\n",
       "      <th>localityno</th>\n",
       "      <th>avgadultfemalelice</th>\n",
       "      <th>avgmobilelice</th>\n",
       "      <th>avgstationarylice</th>\n",
       "      <th>datetime</th>\n",
       "      <th>hasreportedlice</th>\n",
       "      <th>localityname</th>\n",
       "      <th>seatemperature</th>\n",
       "    </tr>\n",
       "  </thead>\n",
       "  <tbody>\n",
       "    <tr>\n",
       "      <th>0</th>\n",
       "      <td>2022</td>\n",
       "      <td>1</td>\n",
       "      <td>30977</td>\n",
       "      <td>0.00</td>\n",
       "      <td>0.10</td>\n",
       "      <td>0.05</td>\n",
       "      <td>None</td>\n",
       "      <td>True</td>\n",
       "      <td>Æsøya</td>\n",
       "      <td>4.0</td>\n",
       "    </tr>\n",
       "    <tr>\n",
       "      <th>1</th>\n",
       "      <td>2022</td>\n",
       "      <td>2</td>\n",
       "      <td>30977</td>\n",
       "      <td>0.01</td>\n",
       "      <td>0.12</td>\n",
       "      <td>0.07</td>\n",
       "      <td>None</td>\n",
       "      <td>True</td>\n",
       "      <td>Æsøya</td>\n",
       "      <td>4.9</td>\n",
       "    </tr>\n",
       "    <tr>\n",
       "      <th>2</th>\n",
       "      <td>2022</td>\n",
       "      <td>3</td>\n",
       "      <td>30977</td>\n",
       "      <td>0.00</td>\n",
       "      <td>0.10</td>\n",
       "      <td>0.05</td>\n",
       "      <td>None</td>\n",
       "      <td>True</td>\n",
       "      <td>Æsøya</td>\n",
       "      <td>5.2</td>\n",
       "    </tr>\n",
       "    <tr>\n",
       "      <th>3</th>\n",
       "      <td>2022</td>\n",
       "      <td>4</td>\n",
       "      <td>30977</td>\n",
       "      <td>0.00</td>\n",
       "      <td>0.02</td>\n",
       "      <td>0.00</td>\n",
       "      <td>None</td>\n",
       "      <td>True</td>\n",
       "      <td>Æsøya</td>\n",
       "      <td>5.0</td>\n",
       "    </tr>\n",
       "    <tr>\n",
       "      <th>4</th>\n",
       "      <td>2022</td>\n",
       "      <td>5</td>\n",
       "      <td>30977</td>\n",
       "      <td>NaN</td>\n",
       "      <td>NaN</td>\n",
       "      <td>NaN</td>\n",
       "      <td>None</td>\n",
       "      <td>False</td>\n",
       "      <td>Æsøya</td>\n",
       "      <td>3.8</td>\n",
       "    </tr>\n",
       "  </tbody>\n",
       "</table>\n",
       "</div>"
      ],
      "text/plain": [
       "   year  week  localityno  avgadultfemalelice  avgmobilelice  \\\n",
       "0  2022     1       30977                0.00           0.10   \n",
       "1  2022     2       30977                0.01           0.12   \n",
       "2  2022     3       30977                0.00           0.10   \n",
       "3  2022     4       30977                0.00           0.02   \n",
       "4  2022     5       30977                 NaN            NaN   \n",
       "\n",
       "   avgstationarylice datetime  hasreportedlice localityname  seatemperature  \n",
       "0               0.05     None             True        Æsøya             4.0  \n",
       "1               0.07     None             True        Æsøya             4.9  \n",
       "2               0.05     None             True        Æsøya             5.2  \n",
       "3               0.00     None             True        Æsøya             5.0  \n",
       "4                NaN     None            False        Æsøya             3.8  "
      ]
     },
     "execution_count": 19,
     "metadata": {},
     "output_type": "execute_result"
    }
   ],
   "source": [
    "df_locality = get_locality_table(session, locality_id=localityNo)\n",
    "df_locality.head()"
   ]
  },
  {
   "cell_type": "code",
   "execution_count": null,
   "metadata": {},
   "outputs": [],
   "source": []
  }
 ],
 "metadata": {
  "kernelspec": {
   "display_name": "ind320",
   "language": "python",
   "name": "python3"
  },
  "language_info": {
   "codemirror_mode": {
    "name": "ipython",
    "version": 3
   },
   "file_extension": ".py",
   "mimetype": "text/x-python",
   "name": "python",
   "nbconvert_exporter": "python",
   "pygments_lexer": "ipython3",
   "version": "3.10.13"
  }
 },
 "nbformat": 4,
 "nbformat_minor": 2
}
