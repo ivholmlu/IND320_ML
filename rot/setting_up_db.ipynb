{
 "cells": [
  {
   "cell_type": "markdown",
   "metadata": {},
   "source": [
    "### Setting up the two databases\n",
    "With using the cassandra database, this file will create a cassandra node with 3 keyspaces. These keyspaces are:\n",
    "\n",
    "\n",
    "1. **fish_data**\n",
    "\n",
    "which is data from Barentwatch API\n",
    "\n",
    "2. **weather_data**\n",
    " \n",
    "with data from Frost API\n",
    "\n",
    "Here they are only created, data will be added in the following notebooks:\n",
    "\n",
    "1. \n",
    "2. \n",
    "\n"
   ]
  },
  {
   "cell_type": "markdown",
   "metadata": {},
   "source": [
    "#### Connecting to the cassandra database"
   ]
  },
  {
   "cell_type": "code",
   "execution_count": 1,
   "metadata": {},
   "outputs": [],
   "source": [
    "# Connecting to Cassandra\n",
    "from cassandra.cluster import Cluster\n",
    "cluster = Cluster(['localhost'], port=9042)\n",
    "session = cluster.connect()"
   ]
  },
  {
   "cell_type": "markdown",
   "metadata": {},
   "source": [
    "##### Setting up keyspaces for port 9042"
   ]
  },
  {
   "cell_type": "code",
   "execution_count": 2,
   "metadata": {},
   "outputs": [
    {
     "data": {
      "text/plain": [
       "<cassandra.cluster.ResultSet at 0x20e1ca421d0>"
      ]
     },
     "execution_count": 2,
     "metadata": {},
     "output_type": "execute_result"
    }
   ],
   "source": [
    "\n",
    "session.execute(\n",
    "    \"CREATE KEYSPACE IF NOT EXISTS fish_data\\\n",
    "    WITH REPLICATION = {\\\n",
    "        'class' : 'SimpleStrategy',\\\n",
    "        'replication_factor' : 1\\\n",
    "    };\"\n",
    ")\n",
    "\n",
    "session.execute(\n",
    "    \"CREATE KEYSPACE IF NOT EXISTS weather_data\\\n",
    "    WITH REPLICATION = {\\\n",
    "        'class' : 'SimpleStrategy',\\\n",
    "        'replication_factor' : 1\\\n",
    "    };\"\n",
    ")"
   ]
  },
  {
   "cell_type": "markdown",
   "metadata": {},
   "source": [
    "#### Setting up table for more detailed information about specific locality\n",
    "Inserting data from 2022\n",
    "\n",
    "id = 35297"
   ]
  },
  {
   "cell_type": "code",
   "execution_count": 3,
   "metadata": {},
   "outputs": [
    {
     "data": {
      "text/plain": [
       "<cassandra.cluster.ResultSet at 0x20e1cd538d0>"
      ]
     },
     "execution_count": 3,
     "metadata": {},
     "output_type": "execute_result"
    }
   ],
   "source": [
    "session.set_keyspace('fish_data')\n",
    "\n",
    "session.execute(\"DROP TABLE id_35297\")\n",
    "\n",
    "table_creation_query = \"\"\"\n",
    "    CREATE TABLE id_35297 (\n",
    "        datetime TEXT PRIMARY KEY,\n",
    "        avgAdultFemaleLice FLOAT,\n",
    "        hasReportedLice BOOLEAN,\n",
    "        avgMobileLice FLOAT,\n",
    "        avgStationaryLice FLOAT,\n",
    "        seaTemperature FLOAT,\n",
    "    )\n",
    "    \"\"\"\n",
    "\n",
    "session.execute(table_creation_query)"
   ]
  },
  {
   "cell_type": "code",
   "execution_count": 4,
   "metadata": {},
   "outputs": [
    {
     "name": "stdout",
     "output_type": "stream",
     "text": [
      "Token request successful\n"
     ]
    }
   ],
   "source": [
    "from functions import get_detailed_week_summary\n",
    "import pandas as pd\n",
    "from barentswatch.authentication import get_token\n",
    "token = get_token()\n",
    "data = []\n",
    "localityid = 35297\n",
    "for week in range(1, 53):\n",
    "    weeksummary = get_detailed_week_summary(token, '2022', str(week), localityid)\n",
    "    locality_week_data = weeksummary['localityWeek']\n",
    "    datetime_object = pd.to_datetime('{}-W{}-7'.format(locality_week_data['year'],\\\n",
    "                                    locality_week_data['week']), format='%G-W%V-%u')\n",
    "    weekly_data = {\n",
    "    'datetime': datetime_object,\n",
    "    'avgadultfemalelice': locality_week_data['avgAdultFemaleLice'],\n",
    "    'hasreportedlice': locality_week_data['hasReportedLice'],\n",
    "    'avgmobilelice': locality_week_data['avgMobileLice'],\n",
    "    'avgstationarylice': locality_week_data['avgStationaryLice'],\n",
    "    'seatemperature': locality_week_data['seaTemperature']\n",
    "    }\n",
    "    data.append(weekly_data)\n",
    "df_35297 = pd.DataFrame(data)\n",
    "df_35297['datetime'] = df_35297['datetime'].dt.strftime('%Y-%U-%w')"
   ]
  },
  {
   "cell_type": "code",
   "execution_count": 5,
   "metadata": {},
   "outputs": [
    {
     "name": "stdout",
     "output_type": "stream",
     "text": [
      "{'id': 1512288, 'localityNo': 35297, 'year': 2022, 'week': 52, 'hasReportedLice': True, 'hasMechanicalRemoval': False, 'hasBathTreatment': False, 'hasInFeedTreatment': False, 'hasCleanerFishDeployed': False, 'isFallow': False, 'avgAdultFemaleLice': 0.32, 'avgMobileLice': 0.4, 'avgStationaryLice': 0.05, 'seaTemperature': 8.7, 'bathTreatments': [], 'inFeedTreatments': [], 'cleanerFish': None, 'mechanicalRemoval': None, 'timeSinceLastChitinSynthesisInhibitorTreatment': None, 'hasSalmonoids': True, 'isSlaughterHoldingCage': False}\n"
     ]
    }
   ],
   "source": [
    "print(locality_week_data)"
   ]
  },
  {
   "cell_type": "markdown",
   "metadata": {},
   "source": [
    "#### Inserting df_35297 into cassandra database\n"
   ]
  },
  {
   "cell_type": "code",
   "execution_count": 6,
   "metadata": {},
   "outputs": [],
   "source": [
    "# Prepare the insert statement (replace with your actual table name and columns)\n",
    "insert_query = session.prepare(\"\"\"\n",
    "    INSERT INTO id_35297 (datetime,\\\n",
    "    avgadultfemalelice, hasreportedlice, avgmobilelice, avgstationarylice, seatemperature)\n",
    "    VALUES (?, ?, ?, ?, ?, ?)\n",
    "\"\"\")\n",
    "\n",
    "# For each row in the DataFrame, execute the insert query\n",
    "for index, row in df_35297.iterrows():\n",
    "    session.execute(insert_query, list(row))"
   ]
  },
  {
   "cell_type": "code",
   "execution_count": 7,
   "metadata": {},
   "outputs": [
    {
     "name": "stdout",
     "output_type": "stream",
     "text": [
      "Row(datetime='2022-51-0', avgadultfemalelice=0.15000000596046448, avgmobilelice=0.3499999940395355, avgstationarylice=0.10000000149011612, hasreportedlice=True, seatemperature=8.0)\n",
      "Row(datetime='2022-46-0', avgadultfemalelice=0.019999999552965164, avgmobilelice=0.41999998688697815, avgstationarylice=0.05000000074505806, hasreportedlice=True, seatemperature=11.600000381469727)\n",
      "Row(datetime='2023-01-0', avgadultfemalelice=0.3199999928474426, avgmobilelice=0.4000000059604645, avgstationarylice=0.05000000074505806, hasreportedlice=True, seatemperature=8.699999809265137)\n",
      "Row(datetime='2022-05-0', avgadultfemalelice=0.09000000357627869, avgmobilelice=0.3400000035762787, avgstationarylice=0.05999999865889549, hasreportedlice=True, seatemperature=7.099999904632568)\n",
      "Row(datetime='2022-09-0', avgadultfemalelice=0.2199999988079071, avgmobilelice=0.3499999940395355, avgstationarylice=0.0, hasreportedlice=True, seatemperature=7.400000095367432)\n",
      "Row(datetime='2022-22-0', avgadultfemalelice=0.18000000715255737, avgmobilelice=0.75, avgstationarylice=0.05999999865889549, hasreportedlice=True, seatemperature=9.399999618530273)\n",
      "Row(datetime='2022-18-0', avgadultfemalelice=0.019999999552965164, avgmobilelice=0.18000000715255737, avgstationarylice=0.10000000149011612, hasreportedlice=True, seatemperature=8.899999618530273)\n",
      "Row(datetime='2022-32-0', avgadultfemalelice=0.4099999964237213, avgmobilelice=0.3799999952316284, avgstationarylice=0.0, hasreportedlice=True, seatemperature=14.800000190734863)\n",
      "Row(datetime='2022-21-0', avgadultfemalelice=0.10000000149011612, avgmobilelice=0.550000011920929, avgstationarylice=0.25, hasreportedlice=True, seatemperature=9.0)\n",
      "Row(datetime='2022-42-0', avgadultfemalelice=0.10000000149011612, avgmobilelice=0.4300000071525574, avgstationarylice=0.0, hasreportedlice=True, seatemperature=13.699999809265137)\n",
      "Row(datetime='2022-28-0', avgadultfemalelice=0.14000000059604645, avgmobilelice=1.3600000143051147, avgstationarylice=0.25, hasreportedlice=True, seatemperature=15.199999809265137)\n",
      "Row(datetime='2022-25-0', avgadultfemalelice=0.1899999976158142, avgmobilelice=1.159999966621399, avgstationarylice=0.25999999046325684, hasreportedlice=True, seatemperature=13.5)\n",
      "Row(datetime='2022-10-0', avgadultfemalelice=0.10999999940395355, avgmobilelice=0.44999998807907104, avgstationarylice=0.03999999910593033, hasreportedlice=True, seatemperature=6.699999809265137)\n",
      "Row(datetime='2022-49-0', avgadultfemalelice=0.05000000074505806, avgmobilelice=0.6200000047683716, avgstationarylice=0.07999999821186066, hasreportedlice=True, seatemperature=9.899999618530273)\n",
      "Row(datetime='2022-02-0', avgadultfemalelice=0.05000000074505806, avgmobilelice=0.14000000059604645, avgstationarylice=0.05000000074505806, hasreportedlice=True, seatemperature=6.099999904632568)\n",
      "Row(datetime='2022-43-0', avgadultfemalelice=0.18000000715255737, avgmobilelice=0.4300000071525574, avgstationarylice=0.019999999552965164, hasreportedlice=True, seatemperature=12.5)\n",
      "Row(datetime='2022-20-0', avgadultfemalelice=0.03999999910593033, avgmobilelice=0.6600000262260437, avgstationarylice=0.23999999463558197, hasreportedlice=True, seatemperature=9.399999618530273)\n",
      "Row(datetime='2022-08-0', avgadultfemalelice=0.23999999463558197, avgmobilelice=0.5199999809265137, avgstationarylice=0.05000000074505806, hasreportedlice=True, seatemperature=6.900000095367432)\n",
      "Row(datetime='2022-41-0', avgadultfemalelice=0.20000000298023224, avgmobilelice=0.47999998927116394, avgstationarylice=0.2800000011920929, hasreportedlice=True, seatemperature=13.800000190734863)\n",
      "Row(datetime='2022-24-0', avgadultfemalelice=0.2199999988079071, avgmobilelice=0.5, avgstationarylice=0.10999999940395355, hasreportedlice=True, seatemperature=12.199999809265137)\n",
      "Row(datetime='2022-38-0', avgadultfemalelice=0.47999998927116394, avgmobilelice=0.8899999856948853, avgstationarylice=0.1899999976158142, hasreportedlice=True, seatemperature=17.600000381469727)\n",
      "Row(datetime='2022-39-0', avgadultfemalelice=0.3799999952316284, avgmobilelice=0.44999998807907104, avgstationarylice=0.0, hasreportedlice=True, seatemperature=15.5)\n",
      "Row(datetime='2022-15-0', avgadultfemalelice=0.2199999988079071, avgmobilelice=0.4399999976158142, avgstationarylice=0.46000000834465027, hasreportedlice=True, seatemperature=6.0)\n",
      "Row(datetime='2022-35-0', avgadultfemalelice=0.3499999940395355, avgmobilelice=0.4000000059604645, avgstationarylice=0.009999999776482582, hasreportedlice=True, seatemperature=17.200000762939453)\n",
      "Row(datetime='2022-44-0', avgadultfemalelice=0.07999999821186066, avgmobilelice=0.2800000011920929, avgstationarylice=0.2800000011920929, hasreportedlice=True, seatemperature=12.300000190734863)\n",
      "Row(datetime='2022-45-0', avgadultfemalelice=0.05000000074505806, avgmobilelice=0.3199999928474426, avgstationarylice=0.10000000149011612, hasreportedlice=True, seatemperature=12.399999618530273)\n",
      "Row(datetime='2022-14-0', avgadultfemalelice=0.18000000715255737, avgmobilelice=0.5199999809265137, avgstationarylice=0.6600000262260437, hasreportedlice=True, seatemperature=5.800000190734863)\n",
      "Row(datetime='2022-07-0', avgadultfemalelice=0.15000000596046448, avgmobilelice=0.6800000071525574, avgstationarylice=0.05000000074505806, hasreportedlice=True, seatemperature=7.0)\n",
      "Row(datetime='2022-17-0', avgadultfemalelice=0.09000000357627869, avgmobilelice=0.4300000071525574, avgstationarylice=0.05999999865889549, hasreportedlice=True, seatemperature=7.099999904632568)\n",
      "Row(datetime='2022-27-0', avgadultfemalelice=0.10999999940395355, avgmobilelice=0.3400000035762787, avgstationarylice=0.5099999904632568, hasreportedlice=True, seatemperature=14.699999809265137)\n",
      "Row(datetime='2022-19-0', avgadultfemalelice=0.03999999910593033, avgmobilelice=0.1599999964237213, avgstationarylice=0.07999999821186066, hasreportedlice=True, seatemperature=9.399999618530273)\n",
      "Row(datetime='2022-16-0', avgadultfemalelice=0.1599999964237213, avgmobilelice=0.7799999713897705, avgstationarylice=0.4099999964237213, hasreportedlice=True, seatemperature=5.800000190734863)\n",
      "Row(datetime='2022-03-0', avgadultfemalelice=0.05999999865889549, avgmobilelice=0.4399999976158142, avgstationarylice=0.03999999910593033, hasreportedlice=True, seatemperature=5.5)\n",
      "Row(datetime='2022-30-0', avgadultfemalelice=0.3199999928474426, avgmobilelice=1.4800000190734863, avgstationarylice=0.5199999809265137, hasreportedlice=True, seatemperature=16.399999618530273)\n",
      "Row(datetime='2022-06-0', avgadultfemalelice=0.25, avgmobilelice=0.9200000166893005, avgstationarylice=0.18000000715255737, hasreportedlice=True, seatemperature=6.900000095367432)\n",
      "Row(datetime='2022-12-0', avgadultfemalelice=0.20000000298023224, avgmobilelice=0.25, avgstationarylice=0.0, hasreportedlice=True, seatemperature=7.0)\n",
      "Row(datetime='2022-52-0', avgadultfemalelice=0.18000000715255737, avgmobilelice=0.2199999988079071, avgstationarylice=0.10000000149011612, hasreportedlice=True, seatemperature=8.300000190734863)\n",
      "Row(datetime='2022-11-0', avgadultfemalelice=0.14000000059604645, avgmobilelice=0.3199999928474426, avgstationarylice=0.03999999910593033, hasreportedlice=True, seatemperature=6.5)\n",
      "Row(datetime='2022-13-0', avgadultfemalelice=0.15000000596046448, avgmobilelice=0.27000001072883606, avgstationarylice=0.05000000074505806, hasreportedlice=True, seatemperature=6.599999904632568)\n",
      "Row(datetime='2022-47-0', avgadultfemalelice=0.05000000074505806, avgmobilelice=0.2800000011920929, avgstationarylice=0.019999999552965164, hasreportedlice=True, seatemperature=12.399999618530273)\n",
      "Row(datetime='2022-23-0', avgadultfemalelice=0.11999999731779099, avgmobilelice=0.9399999976158142, avgstationarylice=0.18000000715255737, hasreportedlice=True, seatemperature=11.300000190734863)\n",
      "Row(datetime='2022-37-0', avgadultfemalelice=0.18000000715255737, avgmobilelice=0.4099999964237213, avgstationarylice=0.11999999731779099, hasreportedlice=True, seatemperature=17.600000381469727)\n",
      "Row(datetime='2022-36-0', avgadultfemalelice=0.3799999952316284, avgmobilelice=0.3799999952316284, avgstationarylice=0.019999999552965164, hasreportedlice=True, seatemperature=16.899999618530273)\n",
      "Row(datetime='2022-50-0', avgadultfemalelice=0.10000000149011612, avgmobilelice=0.20000000298023224, avgstationarylice=0.019999999552965164, hasreportedlice=True, seatemperature=8.5)\n",
      "Row(datetime='2022-48-0', avgadultfemalelice=0.0, avgmobilelice=0.47999998927116394, avgstationarylice=0.019999999552965164, hasreportedlice=True, seatemperature=11.800000190734863)\n",
      "Row(datetime='2022-26-0', avgadultfemalelice=0.05999999865889549, avgmobilelice=0.44999998807907104, avgstationarylice=0.019999999552965164, hasreportedlice=True, seatemperature=13.600000381469727)\n",
      "Row(datetime='2022-29-0', avgadultfemalelice=0.03999999910593033, avgmobilelice=0.550000011920929, avgstationarylice=0.10000000149011612, hasreportedlice=True, seatemperature=16.299999237060547)\n",
      "Row(datetime='2022-31-0', avgadultfemalelice=0.10000000149011612, avgmobilelice=1.0800000429153442, avgstationarylice=0.0, hasreportedlice=True, seatemperature=16.899999618530273)\n",
      "Row(datetime='2022-04-0', avgadultfemalelice=0.09000000357627869, avgmobilelice=0.3499999940395355, avgstationarylice=0.009999999776482582, hasreportedlice=True, seatemperature=6.900000095367432)\n",
      "Row(datetime='2022-34-0', avgadultfemalelice=0.23999999463558197, avgmobilelice=0.6200000047683716, avgstationarylice=0.05999999865889549, hasreportedlice=True, seatemperature=16.5)\n",
      "Row(datetime='2022-33-0', avgadultfemalelice=0.23999999463558197, avgmobilelice=0.41999998688697815, avgstationarylice=0.10000000149011612, hasreportedlice=True, seatemperature=15.300000190734863)\n",
      "Row(datetime='2022-40-0', avgadultfemalelice=0.23000000417232513, avgmobilelice=0.6000000238418579, avgstationarylice=0.0, hasreportedlice=True, seatemperature=14.300000190734863)\n"
     ]
    }
   ],
   "source": [
    "table_35297 = session.execute(\"SELECT * FROM id_35297\")\n",
    "\n",
    "for row in table_35297:\n",
    "    print(row)"
   ]
  },
  {
   "cell_type": "markdown",
   "metadata": {},
   "source": [
    "#### Creating table for all fish localitties and inserting data for 2022 into it\n",
    "\n",
    "- Include all variables from Barentwatch "
   ]
  },
  {
   "cell_type": "code",
   "execution_count": 8,
   "metadata": {},
   "outputs": [],
   "source": [
    "\n",
    "table_creation_query = \"\"\"\n",
    "    CREATE TABLE IF NOT EXISTS locality_data (\n",
    "        year INT,\n",
    "        week INT,\n",
    "        localityNo INT,\n",
    "        localityWeekId INT PRIMARY KEY,\n",
    "        name TEXT,\n",
    "        hasReportedLice BOOLEAN,\n",
    "        isFallow BOOLEAN,\n",
    "        avgAdultFemaleLice DOUBLE,\n",
    "        hasCleanerfishDeployed BOOLEAN,\n",
    "        hasMechanicalRemoval BOOLEAN,\n",
    "        hasSubstanceTreatments BOOLEAN,\n",
    "        hasPd BOOLEAN,\n",
    "        hasIla BOOLEAN,\n",
    "        municipalityNo TEXT,\n",
    "        municipality TEXT,\n",
    "        lat DOUBLE,\n",
    "        lon DOUBLE,\n",
    "        isOnLand BOOLEAN,\n",
    "        inFilteredSelection BOOLEAN,\n",
    "        hasSalmonoids BOOLEAN,\n",
    "        isSlaughterHoldingCage BOOLEAN\n",
    "    );\n",
    "\"\"\"\n",
    "session.execute(table_creation_query) # Uncomment to create the table\n",
    "\n",
    "# Define the INSERT statement\n",
    "insert_query = \"\"\"\n",
    "    INSERT INTO locality_data (year, week, localityNo, localityWeekId, name, hasReportedLice, isFallow, \n",
    "                                avgAdultFemaleLice, hasCleanerfishDeployed, hasMechanicalRemoval, \n",
    "                                hasSubstanceTreatments, hasPd, hasIla, municipalityNo, municipality, \n",
    "                                lat, lon, isOnLand, inFilteredSelection, hasSalmonoids, isSlaughterHoldingCage)\n",
    "    VALUES (%s, %s, %s, %s, %s, %s, %s, %s, %s, %s, %s, %s, %s, %s, %s, %s, %s, %s, %s, %s, %s);\n",
    "\"\"\""
   ]
  },
  {
   "cell_type": "code",
   "execution_count": 9,
   "metadata": {},
   "outputs": [
    {
     "name": "stdout",
     "output_type": "stream",
     "text": [
      "Inserting data for week 1...\n",
      "Inserting data for week 2...\n",
      "Inserting data for week 3...\n",
      "Inserting data for week 4...\n",
      "Inserting data for week 5...\n",
      "Inserting data for week 6...\n",
      "Inserting data for week 7...\n",
      "Inserting data for week 8...\n",
      "Inserting data for week 9...\n",
      "Inserting data for week 10...\n",
      "Inserting data for week 11...\n",
      "Inserting data for week 12...\n",
      "Inserting data for week 13...\n",
      "Inserting data for week 14...\n",
      "Inserting data for week 15...\n",
      "Inserting data for week 16...\n",
      "Inserting data for week 17...\n",
      "Inserting data for week 18...\n",
      "Inserting data for week 19...\n",
      "Inserting data for week 20...\n",
      "Inserting data for week 21...\n",
      "Inserting data for week 22...\n",
      "Inserting data for week 23...\n",
      "Inserting data for week 24...\n",
      "Inserting data for week 25...\n",
      "Inserting data for week 26...\n",
      "Inserting data for week 27...\n",
      "Inserting data for week 28...\n",
      "Inserting data for week 29...\n",
      "Inserting data for week 30...\n",
      "Inserting data for week 31...\n",
      "Inserting data for week 32...\n",
      "Inserting data for week 33...\n",
      "Inserting data for week 34...\n",
      "Inserting data for week 35...\n",
      "Inserting data for week 36...\n",
      "Inserting data for week 37...\n",
      "Inserting data for week 38...\n",
      "Inserting data for week 39...\n",
      "Inserting data for week 40...\n",
      "Inserting data for week 41...\n",
      "Inserting data for week 42...\n",
      "Inserting data for week 43...\n",
      "Inserting data for week 44...\n",
      "Inserting data for week 45...\n",
      "Inserting data for week 46...\n",
      "Inserting data for week 47...\n",
      "Inserting data for week 48...\n",
      "Inserting data for week 49...\n",
      "Inserting data for week 50...\n",
      "Inserting data for week 51...\n",
      "Inserting data for week 52...\n"
     ]
    }
   ],
   "source": [
    "from functions import get_week_summary\n",
    "for week in range(1, 53):\n",
    "    print(f'Inserting data for week {week}...')\n",
    "    weeksummary = get_week_summary(token, '2021', str(week))\n",
    "\n",
    "    for locality in weeksummary['localities']:\n",
    "        session.execute(\n",
    "            insert_query,\n",
    "            (\n",
    "                weeksummary['year'],\n",
    "                weeksummary['week'],\n",
    "                locality['localityNo'],\n",
    "                locality['localityWeekId'],\n",
    "                locality['name'],\n",
    "                locality['hasReportedLice'],\n",
    "                locality['isFallow'],\n",
    "                locality['avgAdultFemaleLice'],\n",
    "                locality['hasCleanerfishDeployed'],\n",
    "                locality['hasMechanicalRemoval'],\n",
    "                locality['hasSubstanceTreatments'],\n",
    "                locality['hasPd'],\n",
    "                locality['hasIla'],\n",
    "                locality['municipalityNo'],\n",
    "                locality['municipality'],\n",
    "                locality['lat'],\n",
    "                locality['lon'],\n",
    "                locality['isOnLand'],\n",
    "                locality['inFilteredSelection'],\n",
    "                locality['hasSalmonoids'],\n",
    "                locality['isSlaughterHoldingCage']\n",
    "            )\n",
    "        )"
   ]
  },
  {
   "cell_type": "code",
   "execution_count": null,
   "metadata": {},
   "outputs": [],
   "source": []
  }
 ],
 "metadata": {
  "kernelspec": {
   "display_name": "IND320_ml",
   "language": "python",
   "name": "python3"
  },
  "language_info": {
   "codemirror_mode": {
    "name": "ipython",
    "version": 3
   },
   "file_extension": ".py",
   "mimetype": "text/x-python",
   "name": "python",
   "nbconvert_exporter": "python",
   "pygments_lexer": "ipython3",
   "version": "3.11.5"
  }
 },
 "nbformat": 4,
 "nbformat_minor": 2
}
