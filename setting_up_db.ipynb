{
 "cells": [
  {
   "cell_type": "markdown",
   "metadata": {},
   "source": [
    "### Setting up the three databases\n",
    "With using the cassandra database, this file will create a cassandra node with 3 keyspaces. These keyspaces are:\n",
    "\n",
    "\n",
    "1. **fish_data**\n",
    "\n",
    "which is data from Barentwatch API\n",
    "\n",
    "2. **weather_data**\n",
    " \n",
    "with data from Frost API\n",
    "\n",
    "Here they are only created, data will be added in the following notebooks:\n",
    "\n",
    "1. \n",
    "2. \n",
    "\n"
   ]
  },
  {
   "cell_type": "markdown",
   "metadata": {},
   "source": [
    "#### Connecting to the cassandra database"
   ]
  },
  {
   "cell_type": "code",
   "execution_count": 2,
   "metadata": {},
   "outputs": [],
   "source": [
    "# Connecting to Cassandra\n",
    "from cassandra.cluster import Cluster\n",
    "cluster = Cluster(['localhost'], port=9042)\n",
    "session = cluster.connect()"
   ]
  },
  {
   "cell_type": "code",
   "execution_count": 3,
   "metadata": {},
   "outputs": [
    {
     "data": {
      "text/plain": [
       "<cassandra.cluster.ResultSet at 0x261fadc1390>"
      ]
     },
     "execution_count": 3,
     "metadata": {},
     "output_type": "execute_result"
    }
   ],
   "source": [
    "session.execute(\n",
    "    \"CREATE KEYSPACE IF NOT EXISTS fish_data\\\n",
    "    WITH REPLICATION = {\\\n",
    "        'class' : 'SimpleStrategy',\\\n",
    "        'replication_factor' : 1\\\n",
    "    };\"\n",
    ")"
   ]
  },
  {
   "cell_type": "code",
   "execution_count": 4,
   "metadata": {},
   "outputs": [
    {
     "data": {
      "text/plain": [
       "<cassandra.cluster.ResultSet at 0x261920be110>"
      ]
     },
     "execution_count": 4,
     "metadata": {},
     "output_type": "execute_result"
    }
   ],
   "source": [
    "session.execute(\n",
    "    \"CREATE KEYSPACE IF NOT EXISTS weather_data\\\n",
    "    WITH REPLICATION = {\\\n",
    "        'class' : 'SimpleStrategy',\\\n",
    "        'replication_factor' : 1\\\n",
    "    };\"\n",
    ")"
   ]
  },
  {
   "cell_type": "code",
   "execution_count": 9,
   "metadata": {},
   "outputs": [
    {
     "data": {
      "text/plain": [
       "<cassandra.cluster.ResultSet at 0x261fadf2d90>"
      ]
     },
     "execution_count": 9,
     "metadata": {},
     "output_type": "execute_result"
    }
   ],
   "source": [
    "session.set_keyspace('fish_data')\n",
    "\n",
    "table_creation_query = \"\"\"\n",
    "    CREATE TABLE IF NOT EXISTS id_35297 (\n",
    "        datetime timestamp PRIMARY KEY,\n",
    "        avgAdultFemaleLice FLOAT,\n",
    "        hasReportedLice BOOLEAN,\n",
    "        avgMobileLice FLOAT,\n",
    "        avgStationaryLice FLOAT,\n",
    "        seaTemperature FLOAT,\n",
    "    )\n",
    "    \"\"\"\n",
    "\n",
    "session.execute(table_creation_query)"
   ]
  },
  {
   "cell_type": "code",
   "execution_count": null,
   "metadata": {},
   "outputs": [],
   "source": []
  }
 ],
 "metadata": {
  "kernelspec": {
   "display_name": "IND320_ml",
   "language": "python",
   "name": "python3"
  },
  "language_info": {
   "codemirror_mode": {
    "name": "ipython",
    "version": 3
   },
   "file_extension": ".py",
   "mimetype": "text/x-python",
   "name": "python",
   "nbconvert_exporter": "python",
   "pygments_lexer": "ipython3",
   "version": "3.11.5"
  }
 },
 "nbformat": 4,
 "nbformat_minor": 2
}
