{
 "cells": [
  {
   "cell_type": "markdown",
   "metadata": {},
   "source": [
    "### Setting up the three databases\n",
    "With using the cassandra database, this file will create a cassandra node with 3 keyspaces. These keyspaces are:\n",
    "\n",
    "\n",
    "1. **fish_data**\n",
    "\n",
    "which is data from Barentwatch API\n",
    "\n",
    "2. **weather_data**\n",
    " \n",
    "with data from Frost API\n",
    "\n",
    "Here they are only created, data will be added in the following notebooks:\n",
    "\n",
    "1. \n",
    "2. \n",
    "\n"
   ]
  },
  {
   "cell_type": "markdown",
   "metadata": {},
   "source": [
    "#### Connecting to the cassandra database"
   ]
  },
  {
   "cell_type": "code",
   "execution_count": 2,
   "metadata": {},
   "outputs": [],
   "source": [
    "# Connecting to Cassandra\n",
    "from cassandra.cluster import Cluster\n",
    "cluster = Cluster(['localhost'], port=9042)\n",
    "session = cluster.connect()"
   ]
  },
  {
   "cell_type": "code",
   "execution_count": 3,
   "metadata": {},
   "outputs": [
    {
     "data": {
      "text/plain": [
       "<cassandra.cluster.ResultSet at 0x261fadc1390>"
      ]
     },
     "execution_count": 3,
     "metadata": {},
     "output_type": "execute_result"
    }
   ],
   "source": [
    "session.execute(\n",
    "    \"CREATE KEYSPACE IF NOT EXISTS fish_data\\\n",
    "    WITH REPLICATION = {\\\n",
    "        'class' : 'SimpleStrategy',\\\n",
    "        'replication_factor' : 1\\\n",
    "    };\"\n",
    ")"
   ]
  },
  {
   "cell_type": "code",
   "execution_count": 4,
   "metadata": {},
   "outputs": [
    {
     "data": {
      "text/plain": [
       "<cassandra.cluster.ResultSet at 0x261920be110>"
      ]
     },
     "execution_count": 4,
     "metadata": {},
     "output_type": "execute_result"
    }
   ],
   "source": [
    "session.execute(\n",
    "    \"CREATE KEYSPACE IF NOT EXISTS weather_data\\\n",
    "    WITH REPLICATION = {\\\n",
    "        'class' : 'SimpleStrategy',\\\n",
    "        'replication_factor' : 1\\\n",
    "    };\"\n",
    ")"
   ]
  },
  {
   "cell_type": "code",
   "execution_count": 12,
   "metadata": {},
   "outputs": [
    {
     "data": {
      "text/plain": [
       "<cassandra.cluster.ResultSet at 0x261920bdb10>"
      ]
     },
     "execution_count": 12,
     "metadata": {},
     "output_type": "execute_result"
    }
   ],
   "source": [
    "session.set_keyspace('fish_data')\n",
    "\n",
    "#session.execute(\"DROP TABLE id_35297\")\n",
    "\n",
    "table_creation_query = \"\"\"\n",
    "    CREATE TABLE id_35297 (\n",
    "        datetime timestamp PRIMARY KEY,\n",
    "        avgAdultFemaleLice FLOAT,\n",
    "        hasReportedLice BOOLEAN,\n",
    "        avgMobileLice FLOAT,\n",
    "        avgStationaryLice FLOAT,\n",
    "        seaTemperature FLOAT,\n",
    "    )\n",
    "    \"\"\"\n",
    "\n",
    "session.execute(table_creation_query)"
   ]
  },
  {
   "cell_type": "markdown",
   "metadata": {},
   "source": [
    "#### Creating table for all locations during year\n",
    "\n",
    "- Include all variables from Barentwatch "
   ]
  },
  {
   "cell_type": "code",
   "execution_count": null,
   "metadata": {},
   "outputs": [],
   "source": [
    "\n",
    "\n",
    "\n",
    "\n",
    "table_creation_query = \"\"\"\n",
    "    CREATE TABLE IF NOT EXISTS locality_data (\n",
    "        year INT,\n",
    "        week INT,\n",
    "        localityNo INT,\n",
    "        localityWeekId INT PRIMARY KEY,\n",
    "        name TEXT,\n",
    "        hasReportedLice BOOLEAN,\n",
    "        isFallow BOOLEAN,\n",
    "        avgAdultFemaleLice DOUBLE,\n",
    "        hasCleanerfishDeployed BOOLEAN,\n",
    "        hasMechanicalRemoval BOOLEAN,\n",
    "        hasSubstanceTreatments BOOLEAN,\n",
    "        hasPd BOOLEAN,\n",
    "        hasIla BOOLEAN,\n",
    "        municipalityNo TEXT,\n",
    "        municipality TEXT,\n",
    "        lat DOUBLE,\n",
    "        lon DOUBLE,\n",
    "        isOnLand BOOLEAN,\n",
    "        inFilteredSelection BOOLEAN,\n",
    "        hasSalmonoids BOOLEAN,\n",
    "        isSlaughterHoldingCage BOOLEAN\n",
    "    );\n",
    "\"\"\"\n",
    "#session.execute(table_creation_query) # Uncomment to create the table\n",
    "\n",
    "# Define the INSERT statement\n",
    "insert_query = \"\"\"\n",
    "    INSERT INTO locality_data (year, week, localityNo, localityWeekId, name, hasReportedLice, isFallow, \n",
    "                               avgAdultFemaleLice, hasCleanerfishDeployed, hasMechanicalRemoval, \n",
    "                               hasSubstanceTreatments, hasPd, hasIla, municipalityNo, municipality, \n",
    "                               lat, lon, isOnLand, inFilteredSelection, hasSalmonoids, isSlaughterHoldingCage)\n",
    "    VALUES (%s, %s, %s, %s, %s, %s, %s, %s, %s, %s, %s, %s, %s, %s, %s, %s, %s, %s, %s, %s, %s);\n",
    "\"\"\""
   ]
  }
 ],
 "metadata": {
  "kernelspec": {
   "display_name": "IND320_ml",
   "language": "python",
   "name": "python3"
  },
  "language_info": {
   "codemirror_mode": {
    "name": "ipython",
    "version": 3
   },
   "file_extension": ".py",
   "mimetype": "text/x-python",
   "name": "python",
   "nbconvert_exporter": "python",
   "pygments_lexer": "ipython3",
   "version": "3.11.5"
  }
 },
 "nbformat": 4,
 "nbformat_minor": 2
}
